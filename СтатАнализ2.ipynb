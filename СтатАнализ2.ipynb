{
  "nbformat": 4,
  "nbformat_minor": 0,
  "metadata": {
    "colab": {
      "provenance": []
    },
    "kernelspec": {
      "name": "python3",
      "display_name": "Python 3"
    },
    "language_info": {
      "name": "python"
    }
  },
  "cells": [
    {
      "cell_type": "markdown",
      "source": [
        "# ВАРИАНТ №18\n",
        "* Параметры (a;б^2): (-0,5;4)\n",
        "* n: 21 1000\n",
        "* M: 1800\n",
        "* gamma: 0,95\n",
        "* alpha: 0,06\n",
        "* Закон распределения случайной величины Y:\n",
        "Логистическое с параметрами масштаба и сдвига 0 и 1 соответственно\n",
        "* Закон распределения случайной величины Z:\n",
        "Закон распределения числа выпадений “орла“ в 9 бросаниях симметричной монеты\n"
      ],
      "metadata": {
        "id": "br6za1VMrkpv"
      }
    },
    {
      "cell_type": "code",
      "source": [
        "import math\n",
        "import numpy as np\n",
        "import pandas as pd\n",
        "import matplotlib.pyplot as plt\n",
        "from scipy.stats import kstest, shapiro\n",
        "import statistics as st\n",
        "from collections import Counter"
      ],
      "metadata": {
        "id": "nqMjP4ox5hP_"
      },
      "execution_count": null,
      "outputs": []
    },
    {
      "cell_type": "markdown",
      "source": [
        "# Задание 1"
      ],
      "metadata": {
        "id": "IL1JKxWQs3Fy"
      }
    },
    {
      "cell_type": "code",
      "source": [
        "a = -0.5\n",
        "sigma_2 = 4\n",
        "M = 1800\n",
        "gamma = 0.95\n",
        "alpha = 0.06\n",
        "n1 = 21\n",
        "n2 = 1000"
      ],
      "metadata": {
        "id": "tF4uRHpctGk_"
      },
      "execution_count": null,
      "outputs": []
    },
    {
      "cell_type": "markdown",
      "source": [
        "**Для n = 21**"
      ],
      "metadata": {
        "id": "QGbF6Xnls-SS"
      }
    },
    {
      "cell_type": "markdown",
      "source": [
        "1.1"
      ],
      "metadata": {
        "id": "k7oB-R3e2H6s"
      }
    },
    {
      "cell_type": "code",
      "source": [
        "# а) Интервальная оценка для матожидания\n",
        "X = np.random.normal(a, np.sqrt(sigma_2), size=n1)\n",
        "ty = 2.0860\n",
        "a_left = X.mean() - np.sqrt(sigma_2) * ty / n1 ** 0.5\n",
        "a_right = X.mean() + np.sqrt(sigma_2) * ty / n1 ** 0.5\n",
        "print(f'Интервальная оценка для матожидания: ({a_left} ; {a_right})')\n",
        "\n",
        "# б) Интервальная оценка для дисперсии\n",
        "xi_left = 34.2 # (1 - y) / 2 = 0.025\n",
        "xi_right = 9.59 # (1 + y) / 2 = 0.975\n",
        "s_left = (n1 - 1) * st.variance(X) / xi_left\n",
        "s_right = (n1 - 1) * st.variance(X) / xi_right\n",
        "print(f'Интервальная оценка для дисперсии: ({s_left} ; {s_right})')"
      ],
      "metadata": {
        "colab": {
          "base_uri": "https://localhost:8080/"
        },
        "id": "Pg7ZQKCRs2Yp",
        "outputId": "43d565dc-bcd6-4f4a-d72c-bde6e10d009c"
      },
      "execution_count": null,
      "outputs": [
        {
          "output_type": "stream",
          "name": "stdout",
          "text": [
            "Интервальная оценка для матожидания: (-0.9474853710229074 ; 0.873324705106213)\n",
            "Интервальная оценка для дисперсии: (1.9895219723545887 ; 7.095062716843269)\n"
          ]
        }
      ]
    },
    {
      "cell_type": "markdown",
      "source": [
        "1.2"
      ],
      "metadata": {
        "id": "VnyF97345rj3"
      }
    },
    {
      "cell_type": "code",
      "source": [
        "np.random.seed(31)\n",
        "X = np.random.normal(a, np.sqrt(sigma_2), n1)\n",
        "X_shapiro = shapiro(X)\n",
        "print(X_shapiro)\n",
        "\n",
        "if X_shapiro.pvalue > alpha:\n",
        "  print(\"Гипотеза верна\")\n",
        "else: \n",
        "  print(f\"Ошибка первого рода\")\n",
        "num_bins = 6 # 1 + 3.322 * lg(21) = 5.39241\n",
        "n_, bins, patches = plt.hist(X, num_bins, density = 1, color ='green')\n",
        "print(bins)"
      ],
      "metadata": {
        "colab": {
          "base_uri": "https://localhost:8080/",
          "height": 334
        },
        "id": "sJumuHiX5sZI",
        "outputId": "992ed0a8-eb3c-4da1-c583-07080b00e7b4"
      },
      "execution_count": null,
      "outputs": [
        {
          "output_type": "stream",
          "name": "stdout",
          "text": [
            "ShapiroResult(statistic=0.8935938477516174, pvalue=0.026339907199144363)\n",
            "Ошибка первого рода\n",
            "[-4.01721462 -2.81456001 -1.6119054  -0.40925079  0.79340382  1.99605843\n",
            "  3.19871305]\n"
          ]
        },
        {
          "output_type": "display_data",
          "data": {
            "text/plain": [
              "<Figure size 432x288 with 1 Axes>"
            ],
            "image/png": "[encoded data removed]"
          },
          "metadata": {
            "needs_background": "light"
          }
        }
      ]
    },
    {
      "cell_type": "code",
      "source": [
        "np.random.seed(6)\n",
        "X = np.random.normal(a, np.sqrt(sigma_2), n1)\n",
        "X_shapiro = shapiro(X)\n",
        "print(X_shapiro)\n",
        "\n",
        "if X_shapiro.pvalue > alpha:\n",
        "  print(\"Гипотеза верна\")\n",
        "else: \n",
        "  print(f\"Ошибка первого рода\")\n",
        "num_bins = 6 # 1 + 3.322 * lg(21) = 5.39241\n",
        "n_, bins, patches = plt.hist(X, num_bins, density = 1, color ='green')\n",
        "print(bins)"
      ],
      "metadata": {
        "colab": {
          "base_uri": "https://localhost:8080/",
          "height": 334
        },
        "id": "L4nVa3w895iA",
        "outputId": "1d0961af-0201-470b-a0e8-a390c54d60b7"
      },
      "execution_count": null,
      "outputs": [
        {
          "output_type": "stream",
          "name": "stdout",
          "text": [
            "ShapiroResult(statistic=0.9697641730308533, pvalue=0.727807343006134)\n",
            "Гипотеза верна\n",
            "[-5.4735613  -3.7675409  -2.0615205  -0.35550009  1.35052031  3.05654071\n",
            "  4.76256111]\n"
          ]
        },
        {
          "output_type": "display_data",
          "data": {
            "text/plain": [
              "<Figure size 432x288 with 1 Axes>"
            ],
            "image/png": "[encoded data removed]"
          },
          "metadata": {
            "needs_background": "light"
          }
        }
      ]
    },
    {
      "cell_type": "markdown",
      "source": [
        "1.3"
      ],
      "metadata": {
        "id": "m1JolFg8JVNY"
      }
    },
    {
      "cell_type": "code",
      "source": [
        "# Для матожидания\n",
        "a_left = [0.0] * M\n",
        "a_right = [0.0] * M\n",
        "m = 0\n",
        "for i in range(M):\n",
        "  X = np.random.normal(a, np.sqrt(sigma_2), n1)\n",
        "  a_left[i] = X.mean() - np.sqrt(st.variance(X)) * ty / n1 ** 0.5\n",
        "  a_right[i] = X.mean() + np.sqrt(st.variance(X)) * ty / n1 ** 0.5\n",
        "  if a_left[i] <= a <= a_right[i]:\n",
        "    m += 1\n",
        "print(a_left[0])\n",
        "print(a_right[0])\n",
        "\n",
        "n = M\n",
        "t = 1.96\n",
        "print(f\"Точечная оценка надежности: {m / n}\")\n",
        "left = m / n - t * np.sqrt((m / n) * (1 - m / n) / n)\n",
        "right = m / n + t * np.sqrt((m / n) * (1 - m / n) / n)\n",
        "print(f'left: {left}')\n",
        "print(f'right: {right}')\n",
        "\n",
        "if left < gamma < right:\n",
        "  print(\"Интервал накрыл гамма\")\n",
        "else:\n",
        "  print(\"Интервал не накрыл гамма\")"
      ],
      "metadata": {
        "colab": {
          "base_uri": "https://localhost:8080/"
        },
        "id": "GPWh4jrr_Yb5",
        "outputId": "9ad5d0e0-bc80-44de-d7a2-cc1e75914f57"
      },
      "execution_count": null,
      "outputs": [
        {
          "output_type": "stream",
          "name": "stdout",
          "text": [
            "-1.10128093307213\n",
            "0.3299713254752523\n",
            "Точечная оценка надежности: 0.9405555555555556\n",
            "left: 0.9296319079462675\n",
            "right: 0.9514792031648437\n",
            "Интервал накрыл гамма\n"
          ]
        }
      ]
    },
    {
      "cell_type": "markdown",
      "source": [
        "1.4"
      ],
      "metadata": {
        "id": "-09G443BJtH-"
      }
    },
    {
      "cell_type": "code",
      "source": [
        "# Для дисперсии\n",
        "xi_left = 34.2 # (1 - y) / 2 = 0.025\n",
        "xi_right = 9.59 # (1 + y) / 2 = 0.975\n",
        "s_left = [0.0] * M\n",
        "s_right = [0.0] * M\n",
        "m = 0\n",
        "for i in range(M):\n",
        "  X = np.random.normal(a, np.sqrt(sigma_2), n1)\n",
        "  s_left[i] = (n1 - 1) * st.variance(X) / xi_left\n",
        "  s_right[i] = (n1 - 1) * st.variance(X) / xi_right\n",
        "  if s_left[i] <= sigma_2 <= s_right[i]:\n",
        "    m += 1\n",
        "\n",
        "\n",
        "n = M\n",
        "t = 1.96\n",
        "print(f\"Точечная оценка надежности: {m / n}\")\n",
        "left = m / n - t * np.sqrt((m / n) * (1 - m / n) / n)\n",
        "right = m / n + t * np.sqrt((m / n) * (1 - m / n) / n)\n",
        "print(f'left: {left}')\n",
        "print(f'right: {right}')\n",
        "\n",
        "if left < gamma < right:\n",
        "  print(\"Интервал накрыл гамма\")\n",
        "else:\n",
        "  print(\"Интервал не накрыл гамма\")"
      ],
      "metadata": {
        "colab": {
          "base_uri": "https://localhost:8080/"
        },
        "id": "-Fwj7gmSInVj",
        "outputId": "4c607306-c0cb-4ace-ba42-e49a9e7cb8aa"
      },
      "execution_count": null,
      "outputs": [
        {
          "output_type": "stream",
          "name": "stdout",
          "text": [
            "Точечная оценка надежности: 0.9466666666666667\n",
            "left: 0.9362861797492829\n",
            "right: 0.9570471535840505\n",
            "Интервал накрыл гамма\n"
          ]
        }
      ]
    },
    {
      "cell_type": "markdown",
      "source": [
        "1.5"
      ],
      "metadata": {
        "id": "Z-D4OmNDKUEg"
      }
    },
    {
      "cell_type": "code",
      "source": [
        "count = 0\n",
        "for i in range(M):\n",
        "  X = np.random.normal(a, np.sqrt(sigma_2), n1)\n",
        "  X_shapiro = shapiro(X)\n",
        "  X_kstest=kstest(X, 'norm', args=[a,np.sqrt(sigma_2)], N=n1)\n",
        "  if X_shapiro.pvalue > alpha:\n",
        "    count += 1\n",
        "\n",
        "\n",
        "print(f\"Вероятность: {count / M}\")\n",
        "print(f\"Альфа: {alpha}\")"
      ],
      "metadata": {
        "colab": {
          "base_uri": "https://localhost:8080/"
        },
        "id": "U7QjRkKJKVXL",
        "outputId": "f8e6d608-4470-4e9f-a5d5-6888bdafdeaa"
      },
      "execution_count": null,
      "outputs": [
        {
          "output_type": "stream",
          "name": "stdout",
          "text": [
            "Вероятность: 0.9416666666666667\n",
            "Альфа: 0.06\n"
          ]
        }
      ]
    },
    {
      "cell_type": "markdown",
      "source": [
        "**Для n = 1000**"
      ],
      "metadata": {
        "id": "SVaubMFZKsSR"
      }
    },
    {
      "cell_type": "markdown",
      "source": [
        "1.1"
      ],
      "metadata": {
        "id": "J3vLTSc0K0Ok"
      }
    },
    {
      "cell_type": "code",
      "source": [
        "# а) Интервальная оценка для матожидания\n",
        "X = np.random.normal(a, np.sqrt(sigma_2), size=n2)\n",
        "ty = 1.9623\n",
        "a_left = X.mean() - np.sqrt(sigma_2) * ty / n2 ** 0.5\n",
        "a_right = X.mean() + np.sqrt(sigma_2) * ty / n2 ** 0.5\n",
        "print(f'Интервальная оценка для матожидания: ({a_left} ; {a_right})')\n",
        "\n",
        "# б) Интервальная оценка для дисперсии\n",
        "xi_left = 1089.53 # (1 - y) / 2 = 0.025\n",
        "xi_right = 914.2571 # (1 + y) / 2 = 0.975\n",
        "s_left = (n2 - 1) * st.variance(X) / xi_left\n",
        "s_right = (n2 - 1) * st.variance(X) / xi_right\n",
        "print(f'Интервальная оценка для дисперсии: ({s_left} ; {s_right})')"
      ],
      "metadata": {
        "colab": {
          "base_uri": "https://localhost:8080/"
        },
        "id": "XWXLs6m5Kzzo",
        "outputId": "3dc80e5f-0dbc-4bf0-9da5-5fd63c5822ef"
      },
      "execution_count": null,
      "outputs": [
        {
          "output_type": "stream",
          "name": "stdout",
          "text": [
            "Интервальная оценка для матожидания: (-0.6147681890385893 ; -0.36655469093665294)\n",
            "Интервальная оценка для дисперсии: (3.6357628587463235 ; 4.332777626216829)\n"
          ]
        }
      ]
    },
    {
      "cell_type": "markdown",
      "source": [
        "1.2"
      ],
      "metadata": {
        "id": "Rwotii-3MTXx"
      }
    },
    {
      "cell_type": "code",
      "source": [
        "np.random.seed(2)\n",
        "X = np.random.normal(a, np.sqrt(sigma_2), n2)\n",
        "X_shapiro = shapiro(X)\n",
        "print(X_shapiro)\n",
        "\n",
        "#for i in range(M):\n",
        "#  np.random.seed(i)\n",
        "#  X = np.random.normal(a, np.sqrt(sigma_2), n2)\n",
        "#  X_shapiro = shapiro(X)\n",
        "#  print(X_shapiro)\n",
        "#  if X_shapiro.pvalue < alpha:\n",
        "#    print(i)\n",
        "#    break\n",
        "     \n",
        "\n",
        "if X_shapiro.pvalue > alpha:\n",
        "  print(\"Гипотеза верна\")\n",
        "else: \n",
        "  print(f\"Ошибка первого рода\")\n",
        "num_bins = 11 # 1 + 3.322 * lg(1000) = 10.966\n",
        "n_, bins, patches = plt.hist(X, num_bins, density = 1, color ='green')\n",
        "print(bins)"
      ],
      "metadata": {
        "colab": {
          "base_uri": "https://localhost:8080/",
          "height": 337
        },
        "id": "73T1YEe7MUpV",
        "outputId": "d15c3705-e984-438b-baba-83d35597db2b"
      },
      "execution_count": null,
      "outputs": [
        {
          "output_type": "stream",
          "name": "stdout",
          "text": [
            "ShapiroResult(statistic=0.9961509704589844, pvalue=0.014036261476576328)\n",
            "Ошибка первого рода\n",
            "[-5.81889891 -4.58832763 -3.35775634 -2.12718505 -0.89661376  0.33395752\n",
            "  1.56452881  2.7951001   4.02567139  5.25624267  6.48681396  7.71738525]\n"
          ]
        },
        {
          "output_type": "display_data",
          "data": {
            "text/plain": [
              "<Figure size 432x288 with 1 Axes>"
            ],
            "image/png": "[encoded data removed]"
          },
          "metadata": {
            "needs_background": "light"
          }
        }
      ]
    },
    {
      "cell_type": "code",
      "source": [
        "np.random.seed(1)\n",
        "X = np.random.normal(a, np.sqrt(sigma_2), n2)\n",
        "X_shapiro = shapiro(X)\n",
        "print(X_shapiro)\n",
        "\n",
        "if X_shapiro.pvalue > alpha:\n",
        "  print(\"Гипотеза верна\")\n",
        "else: \n",
        "  print(f\"Ошибка первого рода\")\n",
        "num_bins = 11 # 1 + 3.322 * lg(1000) = 10.966\n",
        "n_, bins, patches = plt.hist(X, num_bins, density = 1, color ='green')\n",
        "print(bins)"
      ],
      "metadata": {
        "colab": {
          "base_uri": "https://localhost:8080/",
          "height": 334
        },
        "id": "_1NftT94NQOb",
        "outputId": "f9a9b545-e77d-4b9d-c60e-9c426d55c4ab"
      },
      "execution_count": null,
      "outputs": [
        {
          "output_type": "stream",
          "name": "stdout",
          "text": [
            "ShapiroResult(statistic=0.9979177713394165, pvalue=0.24990315735340118)\n",
            "Гипотеза верна\n",
            "[-6.60752876 -5.33255293 -4.05757709 -2.78260126 -1.50762543 -0.23264959\n",
            "  1.04232624  2.31730207  3.59227791  4.86725374  6.14222957  7.41720541]\n"
          ]
        },
        {
          "output_type": "display_data",
          "data": {
            "text/plain": [
              "<Figure size 432x288 with 1 Axes>"
            ],
            "image/png": "[encoded data removed]"
          },
          "metadata": {
            "needs_background": "light"
          }
        }
      ]
    },
    {
      "cell_type": "markdown",
      "source": [
        "1.3"
      ],
      "metadata": {
        "id": "-BsorzQeNdXD"
      }
    },
    {
      "cell_type": "code",
      "source": [
        "# Для матожидания\n",
        "a_left = [0.0] * M\n",
        "a_right = [0.0] * M\n",
        "m = 0\n",
        "for i in range(M):\n",
        "  X = np.random.normal(a, np.sqrt(sigma_2), n2)\n",
        "  a_left[i] = X.mean() - np.sqrt(st.variance(X)) * ty / n2 ** 0.5\n",
        "  a_right[i] = X.mean() + np.sqrt(st.variance(X)) * ty / n2 ** 0.5\n",
        "  if a_left[i] <= a <= a_right[i]:\n",
        "    m += 1\n",
        "\n",
        "n = M\n",
        "t = 1.96\n",
        "print(f\"Точечная оценка надежности: {m / n}\")\n",
        "left = m / n - t * np.sqrt((m / n) * (1 - m / n) / n)\n",
        "right = m / n + t * np.sqrt((m / n) * (1 - m / n) / n)\n",
        "print(f'left: {left}')\n",
        "print(f'right: {right}')\n",
        "\n",
        "if left < gamma < right:\n",
        "  print(\"Интервал накрыл гамма\")\n",
        "else:\n",
        "  print(\"Интервал не накрыл гамма\")"
      ],
      "metadata": {
        "colab": {
          "base_uri": "https://localhost:8080/"
        },
        "id": "1rtaf1IWNfat",
        "outputId": "9bffa516-0efa-4964-9d40-565b5901969f"
      },
      "execution_count": null,
      "outputs": [
        {
          "output_type": "stream",
          "name": "stdout",
          "text": [
            "Точечная оценка надежности: 0.9533333333333334\n",
            "left: 0.9435891465889897\n",
            "right: 0.963077520077677\n",
            "Интервал накрыл гамма\n"
          ]
        }
      ]
    },
    {
      "cell_type": "markdown",
      "source": [
        "1.4"
      ],
      "metadata": {
        "id": "dM6bABFBN09i"
      }
    },
    {
      "cell_type": "code",
      "source": [
        "# Для дисперсии\n",
        "xi_left = 1088.49 # (1 - y) / 2 = 0.025\n",
        "xi_right = 913.30 # (1 + y) / 2 = 0.975\n",
        "s_left = [0.0] * M\n",
        "s_right = [0.0] * M\n",
        "m = 0\n",
        "for i in range(M):\n",
        "  X = np.random.normal(a, np.sqrt(sigma_2), n2)\n",
        "  s_left[i] = (n2 - 1) * st.variance(X) / xi_left\n",
        "  s_right[i] = (n2 - 1) * st.variance(X) / xi_right\n",
        "  if s_left[i] <= sigma_2 <= s_right[i]:\n",
        "    m += 1\n",
        "\n",
        "n = M\n",
        "t = 1.96\n",
        "print(f\"Точечная оценка надежности: {m / n}\")\n",
        "left = m / n - t * np.sqrt((m / n) * (1 - m / n) / n)\n",
        "right = m / n + t * np.sqrt((m / n) * (1 - m / n) / n)\n",
        "print(f'left: {left}')\n",
        "print(f'right: {right}')\n",
        "\n",
        "if left < gamma < right:\n",
        "  print(\"Интервал накрыл гамма\")\n",
        "else:\n",
        "  print(\"Интервал не накрыл гамма\")"
      ],
      "metadata": {
        "colab": {
          "base_uri": "https://localhost:8080/"
        },
        "id": "81cvkB5BOZxi",
        "outputId": "29d33844-c759-4859-f848-88bd10697736"
      },
      "execution_count": null,
      "outputs": [
        {
          "output_type": "stream",
          "name": "stdout",
          "text": [
            "Точечная оценка надежности: 0.9455555555555556\n",
            "left: 0.9350736527240822\n",
            "right: 0.956037458387029\n",
            "Интервал накрыл гамма\n"
          ]
        }
      ]
    },
    {
      "cell_type": "markdown",
      "source": [
        "1.5"
      ],
      "metadata": {
        "id": "g-1pxzNpb9q6"
      }
    },
    {
      "cell_type": "code",
      "source": [
        "count = 0\n",
        "for i in range(M):\n",
        "  X = np.random.normal(a, np.sqrt(sigma_2), n2)\n",
        "  X_shapiro = shapiro(X)\n",
        "  X_kstest=kstest(X, 'norm', args=[a,np.sqrt(sigma_2)], N=n2)\n",
        "  if X_shapiro.pvalue > alpha:\n",
        "    count += 1\n",
        "\n",
        "\n",
        "print(f\"Вероятность: {count / M}\")\n",
        "print(f\"Альфа: {alpha}\")"
      ],
      "metadata": {
        "colab": {
          "base_uri": "https://localhost:8080/"
        },
        "id": "GAAhNmTpcBlD",
        "outputId": "53ab796f-8218-47d3-afad-b79d8ac4fc98"
      },
      "execution_count": null,
      "outputs": [
        {
          "output_type": "stream",
          "name": "stdout",
          "text": [
            "Вероятность: 0.9361111111111111\n",
            "Альфа: 0.06\n"
          ]
        }
      ]
    },
    {
      "cell_type": "markdown",
      "source": [
        "# Задание 2"
      ],
      "metadata": {
        "id": "gmuEyj1ijVgC"
      }
    },
    {
      "cell_type": "markdown",
      "source": [
        "**Для n =21**"
      ],
      "metadata": {
        "id": "vDrvxiI6jZ6-"
      }
    },
    {
      "cell_type": "markdown",
      "source": [
        "2.1"
      ],
      "metadata": {
        "id": "9cpeJYm3jcqI"
      }
    },
    {
      "cell_type": "code",
      "source": [
        "# а) Интервальная оценка для матожидания\n",
        "Y = np.random.logistic(0, 1, size=n1)\n",
        "ty = 2.0860\n",
        "a_left = Y.mean() - np.sqrt(sigma_2) * ty / n1 ** 0.5\n",
        "a_right = Y.mean() + np.sqrt(sigma_2) * ty / n1 ** 0.5\n",
        "print(f'Интервальная оценка для матожидания: ({a_left} ; {a_right})')\n",
        "\n",
        "# б) Интервальная оценка для дисперсии\n",
        "xi_left = 34.2 # (1 - y) / 2 = 0.025\n",
        "xi_right = 9.59 # (1 + y) / 2 = 0.975\n",
        "s_left = (n1 - 1) * st.variance(Y) / xi_left\n",
        "s_right = (n1 - 1) * st.variance(Y) / xi_right\n",
        "print(f'Интервальная оценка для дисперсии: ({s_left} ; {s_right})')"
      ],
      "metadata": {
        "colab": {
          "base_uri": "https://localhost:8080/"
        },
        "id": "Heusc5NTjiPo",
        "outputId": "61085c04-e6f9-4fec-9a28-483d5a5babe1"
      },
      "execution_count": null,
      "outputs": [
        {
          "output_type": "stream",
          "name": "stdout",
          "text": [
            "Интервальная оценка для матожидания: (-0.961847890128941 ; 0.8589621860001794)\n",
            "Интервальная оценка для дисперсии: (1.9511440763567454 ; 6.958198895870772)\n"
          ]
        }
      ]
    },
    {
      "cell_type": "markdown",
      "source": [
        "2.2"
      ],
      "metadata": {
        "id": "dYX9tBRhklS4"
      }
    },
    {
      "cell_type": "code",
      "source": [
        "#for i in range(M):\n",
        "#  np.random.seed(i)\n",
        "#  X = np.random.normal(a, np.sqrt(sigma_2), n2)\n",
        "#  X_shapiro = shapiro(X)\n",
        "#  print(X_shapiro)\n",
        "#  if X_shapiro.pvalue < alpha:\n",
        "#    print(i)\n",
        "#    break\n",
        "\n",
        "np.random.seed(2)\n",
        "Y = np.random.logistic(0, 1, size=n1)\n",
        "Y_kstest = kstest(Y, 'norm', args = [0, np.sqrt(np.pi ** 2 / 3)])\n",
        "print(Y_kstest.pvalue)\n",
        "if Y_kstest.pvalue > alpha:\n",
        "  print(f\"Ошибка второго рода\")\n",
        "else: \n",
        "  print(\"Гипотеза верна\")\n",
        "num_bins = 6 # 1 + 3.322 * lg(21) = 5.39241\n",
        "n_, bins, patches = plt.hist(X, num_bins, density = 1, color ='green')\n",
        "print(bins)"
      ],
      "metadata": {
        "colab": {
          "base_uri": "https://localhost:8080/",
          "height": 334
        },
        "id": "eHDNWFb8kmyr",
        "outputId": "554d9f2d-5071-4dbd-9b84-84e3802eeb05"
      },
      "execution_count": null,
      "outputs": [
        {
          "output_type": "stream",
          "name": "stdout",
          "text": [
            "0.12193482433319891\n",
            "Ошибка второго рода\n",
            "[-8.73312011 -6.10836016 -3.48360021 -0.85884026  1.76591968  4.39067963\n",
            "  7.01543958]\n"
          ]
        },
        {
          "output_type": "display_data",
          "data": {
            "text/plain": [
              "<Figure size 432x288 with 1 Axes>"
            ],
            "image/png": "[encoded data removed]"
          },
          "metadata": {
            "needs_background": "light"
          }
        }
      ]
    },
    {
      "cell_type": "code",
      "source": [
        "np.random.seed(15)\n",
        "Y = np.random.logistic(0, 1, size=n1)\n",
        "Y_kstest = kstest(Y, 'norm', args = [0, np.sqrt(np.pi ** 2 / 3)])\n",
        "print(Y_kstest.pvalue)\n",
        "if Y_kstest.pvalue > alpha:\n",
        "  print(f\"Ошибка второго рода\")\n",
        "else: \n",
        "  print(\"Гипотеза верна\")\n",
        "num_bins = 6 # 1 + 3.322 * lg(21) = 5.39241\n",
        "n_, bins, patches = plt.hist(X, num_bins, density = 1, color ='green')\n",
        "print(bins)"
      ],
      "metadata": {
        "colab": {
          "base_uri": "https://localhost:8080/",
          "height": 334
        },
        "id": "bJ5P4tkA0IKt",
        "outputId": "f82f2ec3-36dd-4e9c-be9e-3bbc8bd3e1a9"
      },
      "execution_count": null,
      "outputs": [
        {
          "output_type": "stream",
          "name": "stdout",
          "text": [
            "0.04276695951853027\n",
            "Гипотеза верна\n",
            "[-8.73312011 -6.10836016 -3.48360021 -0.85884026  1.76591968  4.39067963\n",
            "  7.01543958]\n"
          ]
        },
        {
          "output_type": "display_data",
          "data": {
            "text/plain": [
              "<Figure size 432x288 with 1 Axes>"
            ],
            "image/png": "[encoded data removed]"
          },
          "metadata": {
            "needs_background": "light"
          }
        }
      ]
    },
    {
      "cell_type": "markdown",
      "source": [
        "2.3"
      ],
      "metadata": {
        "id": "1Q3ah0wR1qlv"
      }
    },
    {
      "cell_type": "code",
      "source": [
        "# Для матожидания\n",
        "MY_left = [0.0] * M\n",
        "MY_right = [0.0] * M\n",
        "m = 0\n",
        "for i in range(M):\n",
        "  Y = np.random.logistic(0, 1, n1)\n",
        "  MY_left[i] = Y.mean() - np.sqrt(st.variance(X)) * ty / n1 ** 0.5\n",
        "  MY_right[i] = Y.mean() + np.sqrt(st.variance(X)) * ty / n1 ** 0.5\n",
        "  if MY_left[i] <= 0 <= MY_right[i]:\n",
        "    m += 1\n",
        "\n",
        "n = M\n",
        "t = 1.96\n",
        "print(f\"Точечная оценка надежности: {m / n}\")\n",
        "left = m / n - t * np.sqrt(m / n * (1 - m / n) / n)\n",
        "right = m / n + t * np.sqrt(m / n * (1 - m / n) / n)\n",
        "print(f'left: {left}')\n",
        "print(f'right: {right}')\n",
        "\n",
        "if left < gamma < right:\n",
        "  print(\"Интервал накрыл гамма\")\n",
        "else:\n",
        "  print(\"Интервал не накрыл гамма\")"
      ],
      "metadata": {
        "colab": {
          "base_uri": "https://localhost:8080/"
        },
        "id": "2E40Qz3N1qQe",
        "outputId": "584402d6-fa8c-4037-8f48-d68bec13ecd0"
      },
      "execution_count": null,
      "outputs": [
        {
          "output_type": "stream",
          "name": "stdout",
          "text": [
            "Точечная оценка надежности: 0.9638888888888889\n",
            "left: 0.9552699513861413\n",
            "right: 0.9725078263916365\n",
            "Интервал не накрыл гамма\n"
          ]
        }
      ]
    },
    {
      "cell_type": "markdown",
      "source": [
        "2.4"
      ],
      "metadata": {
        "id": "443i8pSbFSwK"
      }
    },
    {
      "cell_type": "code",
      "source": [
        "# Для дисперсии\n",
        "xi_left = 34.2 # (1 - y) / 2 = 0.025\n",
        "xi_right = 9.59 # (1 + y) / 2 = 0.975\n",
        "s_left = [0.0] * M\n",
        "s_right = [0.0] * M\n",
        "m = 0\n",
        "for i in range(M):\n",
        "  Y = np.random.logistic(0, 1, n1)\n",
        "  s_left[i] = (n1 - 1) * st.variance(Y) / xi_left\n",
        "  s_right[i] = (n1 - 1) * st.variance(Y) / xi_right\n",
        "  if s_left[i] <= np.pi ** 2 / 3 <= s_right[i]:\n",
        "    m += 1\n",
        "\n",
        "\n",
        "n = M\n",
        "t = 1.96\n",
        "print(f\"Точечная оценка надежности: {m / n}\")\n",
        "left = m / n - t * np.sqrt((m / n) * (1 - m / n) / n)\n",
        "right = m / n + t * np.sqrt((m / n) * (1 - m / n) / n)\n",
        "print(f'left: {left}')\n",
        "print(f'right: {right}')\n",
        "\n",
        "if left < gamma < right:\n",
        "  print(\"Интервал накрыл гамма\")\n",
        "else:\n",
        "  print(\"Интервал не накрыл гамма\")"
      ],
      "metadata": {
        "colab": {
          "base_uri": "https://localhost:8080/"
        },
        "id": "pkA5O43pFTmp",
        "outputId": "44163adc-6040-46b3-c666-c17b62d617d5"
      },
      "execution_count": null,
      "outputs": [
        {
          "output_type": "stream",
          "name": "stdout",
          "text": [
            "Точечная оценка надежности: 0.8961111111111111\n",
            "left: 0.8820154548421899\n",
            "right: 0.9102067673800323\n",
            "Интервал не накрыл гамма\n"
          ]
        }
      ]
    },
    {
      "cell_type": "markdown",
      "source": [
        "2.5"
      ],
      "metadata": {
        "id": "hM-dZZVGG4yT"
      }
    },
    {
      "cell_type": "code",
      "source": [
        "count = 0\n",
        "for i in range (M):\n",
        "  Y = np.random.logistic(0, 1, n1)\n",
        "  Y_kstest = kstest(Y, 'norm', args = [0, np.sqrt(np.pi ** 2 / 3)])\n",
        "  if Y_kstest.pvalue < alpha + 0.04:\n",
        "    count += 1\n",
        "print(f\"Мощность критерия: {count / M}\")"
      ],
      "metadata": {
        "colab": {
          "base_uri": "https://localhost:8080/"
        },
        "id": "kpttrIUFG5vV",
        "outputId": "2493b96e-6d76-414e-b5e9-90faeeeffb08"
      },
      "execution_count": null,
      "outputs": [
        {
          "output_type": "stream",
          "name": "stdout",
          "text": [
            "Мощность критерия: 0.08888888888888889\n"
          ]
        }
      ]
    },
    {
      "cell_type": "markdown",
      "source": [
        "**Для n = 1000**"
      ],
      "metadata": {
        "id": "lhmJEFsxHonk"
      }
    },
    {
      "cell_type": "markdown",
      "source": [
        "2.1"
      ],
      "metadata": {
        "id": "dDOx4RUBHtsd"
      }
    },
    {
      "cell_type": "code",
      "source": [
        "# а) Интервальная оценка для матожидания\n",
        "Y = np.random.logistic(0, 1, size=n1)\n",
        "ty = 1.9623\n",
        "a_left = X.mean() - np.sqrt(sigma_2) * ty / n2 ** 0.5\n",
        "a_right = X.mean() + np.sqrt(sigma_2) * ty / n2 ** 0.5\n",
        "print(f'Интервальная оценка для матожидания: ({a_left} ; {a_right})')\n",
        "\n",
        "# б) Интервальная оценка для дисперсии\n",
        "xi_left = 1089.53 # (1 - y) / 2 = 0.025\n",
        "xi_right = 914.2571 # (1 + y) / 2 = 0.975\n",
        "s_left = (n2 - 1) * st.variance(X) / xi_left\n",
        "s_right = (n2 - 1) * st.variance(X) / xi_right\n",
        "print(f'Интервальная оценка для дисперсии: ({s_left} ; {s_right})')"
      ],
      "metadata": {
        "colab": {
          "base_uri": "https://localhost:8080/"
        },
        "id": "rQISIeCrH4_I",
        "outputId": "4a6a2613-b537-45b2-8f64-24122f48bf94"
      },
      "execution_count": null,
      "outputs": [
        {
          "output_type": "stream",
          "name": "stdout",
          "text": [
            "Интервальная оценка для матожидания: (-0.5742029895117775 ; -0.3259894914098411)\n",
            "Интервальная оценка для дисперсии: (3.7895492576149437 ; 4.5160465285412705)\n"
          ]
        }
      ]
    },
    {
      "cell_type": "code",
      "source": [
        "np.random.seed(0)\n",
        "Y = np.random.logistic(0, 1, size=n2)\n",
        "Y_kstest = kstest(Y, 'norm', args = [0, np.sqrt(np.pi ** 2 / 3)])\n",
        "print(Y_kstest.pvalue)\n",
        "if Y_kstest.pvalue > alpha:\n",
        "  print(f\"Ошибка второго рода\")\n",
        "else: \n",
        "  print(\"Гипотеза верна\")\n",
        "num_bins = 11 # 1 + 3.322 * lg(1000) = 10.966\n",
        "n_, bins, patches = plt.hist(X, num_bins, density = 1, color ='green')\n",
        "print(bins)"
      ],
      "metadata": {
        "colab": {
          "base_uri": "https://localhost:8080/",
          "height": 334
        },
        "id": "hNDlZXX6H5zJ",
        "outputId": "7e91490c-0edf-4560-a1bf-d8da95ee31b7"
      },
      "execution_count": null,
      "outputs": [
        {
          "output_type": "stream",
          "name": "stdout",
          "text": [
            "0.12645071090442006\n",
            "Ошибка второго рода\n",
            "[-8.73312011 -7.30143286 -5.86974562 -4.43805837 -3.00637113 -1.57468389\n",
            " -0.14299664  1.2886906   2.72037785  4.15206509  5.58375234  7.01543958]\n"
          ]
        },
        {
          "output_type": "display_data",
          "data": {
            "text/plain": [
              "<Figure size 432x288 with 1 Axes>"
            ],
            "image/png": "[encoded data removed]"
          },
          "metadata": {
            "needs_background": "light"
          }
        }
      ]
    },
    {
      "cell_type": "code",
      "source": [
        "np.random.seed(2)\n",
        "Y = np.random.logistic(0, 1, size=n2)\n",
        "Y_kstest = kstest(Y, 'norm', args = [0, np.sqrt(np.pi ** 2 / 3)])\n",
        "print(Y_kstest.pvalue)\n",
        "if Y_kstest.pvalue > alpha:\n",
        "  print(f\"Ошибка второго рода\")\n",
        "else: \n",
        "  print(\"Гипотеза верна\")\n",
        "num_bins = 11 # 1 + 3.322 * lg(1000) = 10.966\n",
        "n_, bins, patches = plt.hist(X, num_bins, density = 1, color ='green')\n",
        "print(bins)"
      ],
      "metadata": {
        "colab": {
          "base_uri": "https://localhost:8080/",
          "height": 334
        },
        "id": "UB0g5HMxIB71",
        "outputId": "28e583da-6670-4c81-c460-f7a1ad420bae"
      },
      "execution_count": null,
      "outputs": [
        {
          "output_type": "stream",
          "name": "stdout",
          "text": [
            "0.003934585312752469\n",
            "Гипотеза верна\n",
            "[-8.73312011 -7.30143286 -5.86974562 -4.43805837 -3.00637113 -1.57468389\n",
            " -0.14299664  1.2886906   2.72037785  4.15206509  5.58375234  7.01543958]\n"
          ]
        },
        {
          "output_type": "display_data",
          "data": {
            "text/plain": [
              "<Figure size 432x288 with 1 Axes>"
            ],
            "image/png": "[encoded data removed]"
          },
          "metadata": {
            "needs_background": "light"
          }
        }
      ]
    },
    {
      "cell_type": "code",
      "source": [
        "# Для матожидания\n",
        "MY_left = [0.0] * M\n",
        "MY_right = [0.0] * M\n",
        "m = 0\n",
        "for i in range(M):\n",
        "  Y = np.random.logistic(0, 1, n2)\n",
        "  MY_left[i] = Y.mean() - np.sqrt(st.variance(X)) * ty / n2 ** 0.5\n",
        "  MY_right[i] = Y.mean() + np.sqrt(st.variance(X)) * ty / n2 ** 0.5\n",
        "  if MY_left[i] <= 0 <= MY_right[i]:\n",
        "    m += 1\n",
        "\n",
        "n = M\n",
        "t = 1.96\n",
        "print(f\"Точечная оценка надежности: {m / n}\")\n",
        "left = m / n - t * np.sqrt(m / n * (1 - m / n) / n)\n",
        "right = m / n + t * np.sqrt(m / n * (1 - m / n) / n)\n",
        "print(f'left: {left}')\n",
        "print(f'right: {right}')\n",
        "\n",
        "if left < gamma < right:\n",
        "  print(\"Интервал накрыл гамма\")\n",
        "else:\n",
        "  print(\"Интервал не накрыл гамма\")"
      ],
      "metadata": {
        "colab": {
          "base_uri": "https://localhost:8080/"
        },
        "id": "XK1bHdoeIHbk",
        "outputId": "a8688616-1131-4c70-f39a-0fa7bc2b17d1"
      },
      "execution_count": null,
      "outputs": [
        {
          "output_type": "stream",
          "name": "stdout",
          "text": [
            "Точечная оценка надежности: 0.9672222222222222\n",
            "left: 0.95899652527542\n",
            "right: 0.9754479191690244\n",
            "Интервал не накрыл гамма\n"
          ]
        }
      ]
    },
    {
      "cell_type": "code",
      "source": [
        "# Для дисперсии\n",
        "xi_left = 1088.49 # (1 - y) / 2 = 0.025\n",
        "xi_right = 913.30 # (1 + y) / 2 = 0.975\n",
        "s_left = [0.0] * M\n",
        "s_right = [0.0] * M\n",
        "m = 0\n",
        "for i in range(M):\n",
        "  Y = np.random.logistic(0, 1, n2)\n",
        "  s_left[i] = (n2 - 1) * st.variance(Y) / xi_left\n",
        "  s_right[i] = (n2 - 1) * st.variance(Y) / xi_right\n",
        "  if s_left[i] <= np.pi ** 2 / 3 <= s_right[i]:\n",
        "    m += 1\n",
        "\n",
        "\n",
        "n = M\n",
        "t = 1.96\n",
        "print(f\"Точечная оценка надежности: {m / n}\")\n",
        "left = m / n - t * np.sqrt((m / n) * (1 - m / n) / n)\n",
        "right = m / n + t * np.sqrt((m / n) * (1 - m / n) / n)\n",
        "print(f'left: {left}')\n",
        "print(f'right: {right}')\n",
        "\n",
        "if left < gamma < right:\n",
        "  print(\"Интервал накрыл гамма\")\n",
        "else:\n",
        "  print(\"Интервал не накрыл гамма\")"
      ],
      "metadata": {
        "colab": {
          "base_uri": "https://localhost:8080/"
        },
        "id": "pNdVzZUKIMNd",
        "outputId": "a331fbec-28c4-44f0-a453-01cb5b227697"
      },
      "execution_count": null,
      "outputs": [
        {
          "output_type": "stream",
          "name": "stdout",
          "text": [
            "Точечная оценка надежности: 0.8905555555555555\n",
            "left: 0.8761328350349546\n",
            "right: 0.9049782760761564\n",
            "Интервал не накрыл гамма\n"
          ]
        }
      ]
    },
    {
      "cell_type": "code",
      "source": [
        "count = 0\n",
        "for i in range (M):\n",
        "  Y = np.random.logistic(0, 1, n2)\n",
        "  Y_kstest = kstest(Y, 'norm', args = [0, np.sqrt(np.pi ** 2 / 3)])\n",
        "  if Y_kstest.pvalue < alpha:\n",
        "    count += 1\n",
        "print(f\"Мощность критерия: {count / M}\")"
      ],
      "metadata": {
        "colab": {
          "base_uri": "https://localhost:8080/"
        },
        "id": "69dMKmpXIPMy",
        "outputId": "d9ecdb57-a2e9-40ff-8879-005a8389da36"
      },
      "execution_count": null,
      "outputs": [
        {
          "output_type": "stream",
          "name": "stdout",
          "text": [
            "Мощность критерия: 0.43777777777777777\n"
          ]
        }
      ]
    },
    {
      "cell_type": "markdown",
      "source": [
        "# Задание 3"
      ],
      "metadata": {
        "id": "qMyuyJDMN-b0"
      }
    },
    {
      "cell_type": "code",
      "source": [
        "N = 9\n",
        "p = 0.5\n",
        "\n",
        "def binomial(n, k):\n",
        "  if not 0 <= k <= n:\n",
        "    return 0\n",
        "  b = 1\n",
        "  for t in range(min(k, n-k)):\n",
        "    b *= n\n",
        "    b /= t+1\n",
        "    n -= 1\n",
        "  return int(b)"
      ],
      "metadata": {
        "id": "_DeJWxPccHC2"
      },
      "execution_count": null,
      "outputs": []
    },
    {
      "cell_type": "markdown",
      "source": [
        "**Для n = 21**"
      ],
      "metadata": {
        "id": "xEUl2BNeOBMg"
      }
    },
    {
      "cell_type": "code",
      "source": [
        "np.random.seed(0)\n",
        "Z = np.random.binomial(N, p, n1)\n",
        "print(Z)\n",
        "\n",
        "counter = Counter(Z)\n",
        "range_of_frequen = dict(sorted(counter.items()))\n",
        "print(range_of_frequen)\n",
        "\n",
        "value = list(range_of_frequen.values())\n",
        "key = list(range_of_frequen.keys())\n",
        "Z_i = np.asarray(key)\n",
        "freq = np.asarray(value)\n",
        "\n",
        "n = Z_i.size\n",
        "print(f\"Количество групп: {n}\")\n",
        "p_i = [0.0] * n\n",
        "for i in range(n):\n",
        "  p_i[i] = binomial(9, Z_i[i]) * 0.5 ** Z_i[i] * 0.5 ** (9 - Z_i[i])\n",
        "\n",
        "print(p_i)\n",
        "print(n1 * np.array(p_i))\n",
        "\n",
        "xi_practical = 0.0\n",
        "xi_critical = 14.95634\n",
        "for i in range(n):\n",
        "  xi_practical += (freq[i] - n1 * p_i[i]) ** 2 / (n1 * p_i[i])\n",
        "\n",
        "print(f'xi_practical: {xi_practical}')\n",
        "if xi_practical > xi_critical:\n",
        "  print(\"Ошибка первого рода\")\n",
        "else:\n",
        "  print(\"Гипотеза верна\")\n",
        "print()\n",
        "\n",
        "W_i = freq / n1\n",
        "print(W_i)\n",
        "plt.plot(Z_i, W_i, 'r-*')"
      ],
      "metadata": {
        "colab": {
          "base_uri": "https://localhost:8080/",
          "height": 439
        },
        "id": "6iXz3nM1epZe",
        "outputId": "6e8874b0-cff1-4c65-ba9a-3f992273df7e"
      },
      "execution_count": null,
      "outputs": [
        {
          "output_type": "stream",
          "name": "stdout",
          "text": [
            "[5 5 5 5 4 5 4 6 7 4 6 5 5 7 2 2 2 6 6 6 7]\n",
            "{2: 3, 4: 3, 5: 7, 6: 5, 7: 3}\n",
            "Количество групп: 5\n",
            "[0.0703125, 0.24609375, 0.24609375, 0.1640625, 0.0703125]\n",
            "[1.4765625  5.16796875 5.16796875 3.4453125  1.4765625 ]\n",
            "xi_practical: 5.404065098261527\n",
            "Гипотеза верна\n",
            "\n",
            "[0.14285714 0.14285714 0.33333333 0.23809524 0.14285714]\n"
          ]
        },
        {
          "output_type": "execute_result",
          "data": {
            "text/plain": [
              "[<matplotlib.lines.Line2D at 0x7f3adab73e50>]"
            ]
          },
          "metadata": {},
          "execution_count": 91
        },
        {
          "output_type": "display_data",
          "data": {
            "text/plain": [
              "<Figure size 432x288 with 1 Axes>"
            ],
            "image/png": "[encoded data removed]"
          },
          "metadata": {
            "needs_background": "light"
          }
        }
      ]
    },
    {
      "cell_type": "code",
      "source": [
        "np.random.seed(1)\n",
        "Z = np.random.binomial(N, p, n1)\n",
        "print(Z)\n",
        "\n",
        "counter = Counter(Z)\n",
        "range_of_frequen = dict(sorted(counter.items()))\n",
        "print(range_of_frequen)\n",
        "\n",
        "value = list(range_of_frequen.values())\n",
        "key = list(range_of_frequen.keys())\n",
        "Z_i = np.asarray(key)\n",
        "freq = np.asarray(value)\n",
        "\n",
        "n = Z_i.size\n",
        "print(f\"Количество групп: {n}\")\n",
        "p_i = [0.0] * n\n",
        "for i in range(n):\n",
        "  p_i[i] = binomial(9, Z_i[i]) * 0.5 ** Z_i[i] * 0.5 ** (9 - Z_i[i])\n",
        "\n",
        "print(p_i)\n",
        "print(n1 * np.array(p_i))\n",
        "\n",
        "xi_practical = 0.0\n",
        "xi_critical = 14.95634\n",
        "for i in range(n):\n",
        "  xi_practical += (freq[i] - n1 * p_i[i]) ** 2 / (n1 * p_i[i])\n",
        "\n",
        "print(f'xi_practical: {xi_practical}')\n",
        "if xi_practical > xi_critical:\n",
        "  print(\"Ошибка первого рода\")\n",
        "else:\n",
        "  print(\"Гипотеза верна\")\n",
        "print()\n",
        "\n",
        "W_i = freq / n1\n",
        "print(W_i)\n",
        "plt.plot(Z_i, W_i, 'r-*')"
      ],
      "metadata": {
        "colab": {
          "base_uri": "https://localhost:8080/",
          "height": 439
        },
        "id": "mPmx5huzOF1-",
        "outputId": "00451924-f2c7-4cd0-f857-1a9b68063584"
      },
      "execution_count": null,
      "outputs": [
        {
          "output_type": "stream",
          "name": "stdout",
          "text": [
            "[4 5 0 4 3 3 3 4 4 5 4 5 3 6 2 5 4 5 3 3 6]\n",
            "{0: 1, 2: 1, 3: 6, 4: 6, 5: 5, 6: 2}\n",
            "Количество групп: 6\n",
            "[0.001953125, 0.0703125, 0.1640625, 0.24609375, 0.24609375, 0.1640625]\n",
            "[0.04101562 1.4765625  3.4453125  5.16796875 5.16796875 3.4453125 ]\n",
            "xi_practical: 25.215795953798185\n",
            "Ошибка первого рода\n",
            "\n",
            "[0.04761905 0.04761905 0.28571429 0.28571429 0.23809524 0.0952381 ]\n"
          ]
        },
        {
          "output_type": "execute_result",
          "data": {
            "text/plain": [
              "[<matplotlib.lines.Line2D at 0x7f3adaae59d0>]"
            ]
          },
          "metadata": {},
          "execution_count": 92
        },
        {
          "output_type": "display_data",
          "data": {
            "text/plain": [
              "<Figure size 432x288 with 1 Axes>"
            ],
            "image/png": "[encoded data removed]"
          },
          "metadata": {
            "needs_background": "light"
          }
        }
      ]
    },
    {
      "cell_type": "markdown",
      "source": [
        "**Для n = 1000**"
      ],
      "metadata": {
        "id": "_ui032luCOjA"
      }
    },
    {
      "cell_type": "code",
      "source": [
        "np.random.seed(0)\n",
        "Z = np.random.binomial(N, p, n2)\n",
        "#print(Z)\n",
        "\n",
        "counter = Counter(Z)\n",
        "range_of_frequen = dict(sorted(counter.items()))\n",
        "print(range_of_frequen)\n",
        "\n",
        "value = list(range_of_frequen.values())\n",
        "key = list(range_of_frequen.keys())\n",
        "Z_i = np.asarray(key)\n",
        "freq = np.asarray(value)\n",
        "\n",
        "n = Z_i.size\n",
        "print(f\"Количество групп: {n}\")\n",
        "p_i = [0.0] * n\n",
        "for i in range(n):\n",
        "  p_i[i] = binomial(9, Z_i[i]) * 0.5 ** Z_i[i] * 0.5 ** (9 - Z_i[i])\n",
        "\n",
        "print(p_i)\n",
        "print(n2 * np.array(p_i))\n",
        "\n",
        "xi_practical = 0.0\n",
        "xi_critical = 14.95634\n",
        "for i in range(n):\n",
        "  xi_practical += (freq[i] - n2 * p_i[i]) ** 2 / (n2 * p_i[i])\n",
        "\n",
        "print(f'xi_practical: {xi_practical}')\n",
        "if xi_practical > xi_critical:\n",
        "  print(\"Ошибка первого рода\")\n",
        "else:\n",
        "  print(\"Гипотеза верна\")\n",
        "print()\n",
        "\n",
        "W_i = freq / n2\n",
        "print(W_i)\n",
        "plt.plot(Z_i, W_i, 'r-*')"
      ],
      "metadata": {
        "colab": {
          "base_uri": "https://localhost:8080/",
          "height": 439
        },
        "id": "_ZW-dv7kCVto",
        "outputId": "a9f406e0-0db4-47da-f63e-6cfbb89fe55f"
      },
      "execution_count": null,
      "outputs": [
        {
          "output_type": "stream",
          "name": "stdout",
          "text": [
            "{0: 2, 1: 18, 2: 66, 3: 173, 4: 258, 5: 240, 6: 145, 7: 81, 8: 14, 9: 3}\n",
            "Количество групп: 10\n",
            "[0.001953125, 0.017578125, 0.0703125, 0.1640625, 0.24609375, 0.24609375, 0.1640625, 0.0703125, 0.017578125, 0.001953125]\n",
            "[  1.953125  17.578125  70.3125   164.0625   246.09375  246.09375\n",
            " 164.0625    70.3125    17.578125   1.953125]\n",
            "xi_practical: 6.6184126984126985\n",
            "Гипотеза верна\n",
            "\n",
            "[0.002 0.018 0.066 0.173 0.258 0.24  0.145 0.081 0.014 0.003]\n"
          ]
        },
        {
          "output_type": "execute_result",
          "data": {
            "text/plain": [
              "[<matplotlib.lines.Line2D at 0x7f3adaad27d0>]"
            ]
          },
          "metadata": {},
          "execution_count": 93
        },
        {
          "output_type": "display_data",
          "data": {
            "text/plain": [
              "<Figure size 432x288 with 1 Axes>"
            ],
            "image/png": "[encoded data removed]"
          },
          "metadata": {
            "needs_background": "light"
          }
        }
      ]
    },
    {
      "cell_type": "code",
      "source": [
        "np.random.seed(14)\n",
        "Z = np.random.binomial(N, p, n2)\n",
        "#print(Z)\n",
        "\n",
        "counter = Counter(Z)\n",
        "range_of_frequen = dict(sorted(counter.items()))\n",
        "print(range_of_frequen)\n",
        "\n",
        "value = list(range_of_frequen.values())\n",
        "key = list(range_of_frequen.keys())\n",
        "Z_i = np.asarray(key)\n",
        "freq = np.asarray(value)\n",
        "\n",
        "n = Z_i.size\n",
        "print(f\"Количество групп: {n}\")\n",
        "p_i = [0.0] * n\n",
        "for i in range(n):\n",
        "  p_i[i] = binomial(9, Z_i[i]) * 0.5 ** Z_i[i] * 0.5 ** (9 - Z_i[i])\n",
        "\n",
        "print(p_i)\n",
        "print(n2 * np.array(p_i))\n",
        "\n",
        "xi_practical = 0.0\n",
        "xi_critical = 14.95634\n",
        "for i in range(n):\n",
        "  xi_practical += (freq[i] - n2 * p_i[i]) ** 2 / (n2 * p_i[i])\n",
        "\n",
        "print(f'xi_practical: {xi_practical}')\n",
        "if xi_practical > xi_critical:\n",
        "  print(\"Ошибка первого рода\")\n",
        "else:\n",
        "  print(\"Гипотеза верна\")\n",
        "print()\n",
        "\n",
        "W_i = freq / n2\n",
        "print(W_i)\n",
        "plt.plot(Z_i, W_i, 'r-*')"
      ],
      "metadata": {
        "colab": {
          "base_uri": "https://localhost:8080/",
          "height": 440
        },
        "id": "GotJuRxmKkb7",
        "outputId": "a3cd274a-8041-49b7-8ebc-1007a5d98253"
      },
      "execution_count": null,
      "outputs": [
        {
          "output_type": "stream",
          "name": "stdout",
          "text": [
            "{0: 1, 1: 16, 2: 62, 3: 156, 4: 290, 5: 232, 6: 146, 7: 68, 8: 23, 9: 6}\n",
            "Количество групп: 10\n",
            "[0.001953125, 0.017578125, 0.0703125, 0.1640625, 0.24609375, 0.24609375, 0.1640625, 0.0703125, 0.017578125, 0.001953125]\n",
            "[  1.953125  17.578125  70.3125   164.0625   246.09375  246.09375\n",
            " 164.0625    70.3125    17.578125   1.953125]\n",
            "xi_practical: 22.748444444444445\n",
            "Ошибка первого рода\n",
            "\n",
            "[0.001 0.016 0.062 0.156 0.29  0.232 0.146 0.068 0.023 0.006]\n"
          ]
        },
        {
          "output_type": "execute_result",
          "data": {
            "text/plain": [
              "[<matplotlib.lines.Line2D at 0x7f3adaa34c10>]"
            ]
          },
          "metadata": {},
          "execution_count": 94
        },
        {
          "output_type": "display_data",
          "data": {
            "text/plain": [
              "<Figure size 432x288 with 1 Axes>"
            ],
            "image/png": "[encoded data removed]"
          },
          "metadata": {
            "needs_background": "light"
          }
        }
      ]
    }
  ]
}