{
  "nbformat": 4,
  "nbformat_minor": 0,
  "metadata": {
    "colab": {
      "provenance": [],
      "collapsed_sections": [
        "vFatQ4x-URqJ",
        "6V6_8Gl38pLT"
      ]
    },
    "kernelspec": {
      "name": "python3",
      "display_name": "Python 3"
    },
    "language_info": {
      "name": "python"
    }
  },
  "cells": [
    {
      "cell_type": "markdown",
      "source": [
        "# ВАРИАНТ №18\n",
        "* Параметры (a;б^2): (2;1)\n",
        "* n: 110\n",
        "* M: 750\n",
        "* q: 0,8\n",
        "* Закон распределения случайной величины Y:\n",
        "Хи-квадрат с числом степеней свободы, равным 5\n",
        "* Закон распределения случайной величины Z:\n",
        "Распределение Пуассона с математическим ожиданием, равным 1"
      ],
      "metadata": {
        "id": "CJQ1zQeIzcMP"
      }
    },
    {
      "cell_type": "code",
      "execution_count": null,
      "metadata": {
        "id": "GZ0WJPIbUGWE"
      },
      "outputs": [],
      "source": [
        "import numpy as np\n",
        "import pandas as pd\n",
        "import os\n",
        "import matplotlib.pyplot as plt\n",
        "import seaborn as sb\n",
        "import math\n",
        "from scipy import stats\n",
        "from collections import Counter"
      ]
    },
    {
      "cell_type": "markdown",
      "source": [
        "# Задание 1"
      ],
      "metadata": {
        "id": "vFatQ4x-URqJ"
      }
    },
    {
      "cell_type": "markdown",
      "source": [
        "**Способ 1**"
      ],
      "metadata": {
        "id": "O7InBKHpUXSt"
      }
    },
    {
      "cell_type": "code",
      "source": [
        "n = 110\n",
        "a = 2\n",
        "sigma = 1\n",
        "# sigma_2 = sigma = 1\n",
        "l = 10\n",
        "y = [0.0] * n\n",
        "\n",
        "y = pd.Series(data=y)\n",
        "for i in range(n):\n",
        "  selection = np.random.uniform(0, 1, l);\n",
        "  x = (selection.sum() - l / 2) / math.sqrt(l / 12)\n",
        "  y[i] = x * sigma + a\n",
        "\n",
        "# print(\"Гистограмма не сгруппированного распределения\")\n",
        "# y.hist(density=True)\n",
        "\n",
        "print(stats.shapiro(y))"
      ],
      "metadata": {
        "id": "e06ey655UsRE",
        "colab": {
          "base_uri": "https://localhost:8080/"
        },
        "outputId": "f81682ea-1753-45bd-ef20-8a9772d3c2d4"
      },
      "execution_count": null,
      "outputs": [
        {
          "output_type": "stream",
          "name": "stdout",
          "text": [
            "ShapiroResult(statistic=0.98687744140625, pvalue=0.36065149307250977)\n"
          ]
        }
      ]
    },
    {
      "cell_type": "markdown",
      "source": [
        "1.1"
      ],
      "metadata": {
        "id": "WunKf1ZEUjqY"
      }
    },
    {
      "cell_type": "code",
      "source": [
        "y = np.array(y)\n",
        "print(y)\n",
        "\n",
        "y_bins = pd.cut(y, 5)\n",
        "print(y_bins.describe())"
      ],
      "metadata": {
        "id": "_bDD78bGUf_z",
        "colab": {
          "base_uri": "https://localhost:8080/"
        },
        "outputId": "625a24bf-5910-46f6-fdeb-15ee16dbf03e"
      },
      "execution_count": null,
      "outputs": [
        {
          "output_type": "stream",
          "name": "stdout",
          "text": [
            "[ 2.03272835  3.24688463  2.5981967   2.4836582   3.77704052  2.61430032\n",
            "  3.05767008  1.4015615   1.204342    1.9732127   0.98571218  2.44286938\n",
            "  3.25581224  3.10533242  1.27487728  1.27007216  1.42556119  1.0326109\n",
            "  2.77153733  1.71767937  2.2255379   0.62621194  3.30996954  2.34760598\n",
            "  0.95766302  4.59071169  1.52148152  0.63772532  0.75076646  2.16776251\n",
            "  1.14781535  2.37227151  1.24723493  2.08610762  1.94584221  1.06909569\n",
            "  1.21885123  2.68740133  2.05658152  1.66536398  0.78547145  1.10090925\n",
            "  4.26435488  0.50659699  1.52864519  1.12300548  1.88016163  0.10814413\n",
            "  1.84084868  2.32681969  2.99854763  2.57262298  1.73074985  3.81695182\n",
            "  3.04164225  2.15754555  4.50402745  2.10098919  2.21398296  2.64352194\n",
            "  2.0429651   1.87688759  1.25830559  2.48488957  3.28136232  1.40336632\n",
            "  0.59110067  2.23052396  2.17360603  2.8609623  -1.09960717  1.83641359\n",
            "  2.84076919  3.35988382  1.09287864  2.08452417  1.59876659  1.78370415\n",
            "  3.59228824  2.39795526  1.10844516  2.36114324  3.9668327   1.82912687\n",
            "  0.59608748  3.15662318  2.62571773  3.27427339  1.40491684  0.91398716\n",
            "  2.45257231  1.72342235  2.20015122  2.0845852   2.38479003  1.30483757\n",
            "  2.14366192  1.9911358   1.46123642  1.50843761  1.10153967  0.90673406\n",
            "  1.94904187  0.61719861  1.74890978  2.4725644   2.62863161  1.66920892\n",
            "  2.59245727  2.6833633 ]\n",
            "                  counts     freqs\n",
            "categories                        \n",
            "(-1.105, 0.0385]       1  0.009091\n",
            "(0.0385, 1.177]       21  0.190909\n",
            "(1.177, 2.315]        47  0.427273\n",
            "(2.315, 3.453]        34  0.309091\n",
            "(3.453, 4.591]         7  0.063636\n"
          ]
        }
      ]
    },
    {
      "cell_type": "code",
      "source": [
        "df = pd.DataFrame(y_bins.describe())\n",
        "df['H(x_i)'] = y_bins.describe().counts.cumsum()\n",
        "\n",
        "df['F*(x_i)'] = df['H(x_i)'] / n\n",
        "df"
      ],
      "metadata": {
        "id": "VhJVao5OUxa3",
        "colab": {
          "base_uri": "https://localhost:8080/"
        },
        "outputId": "015a643b-ff17-49f9-840b-210ee86f53ab"
      },
      "execution_count": null,
      "outputs": [
        {
          "output_type": "execute_result",
          "data": {
            "text/plain": [
              "                  counts     freqs  H(x_i)   F*(x_i)\n",
              "categories                                          \n",
              "(-1.105, 0.0385]       1  0.009091       1  0.009091\n",
              "(0.0385, 1.177]       21  0.190909      22  0.200000\n",
              "(1.177, 2.315]        47  0.427273      69  0.627273\n",
              "(2.315, 3.453]        34  0.309091     103  0.936364\n",
              "(3.453, 4.591]         7  0.063636     110  1.000000"
            ],
            "text/html": [
              "\n",
              "  <div id=\"df-708e4240-12b5-4b85-8a64-7065e47df59a\">\n",
              "    <div class=\"colab-df-container\">\n",
              "      <div>\n",
              "<style scoped>\n",
              "    .dataframe tbody tr th:only-of-type {\n",
              "        vertical-align: middle;\n",
              "    }\n",
              "\n",
              "    .dataframe tbody tr th {\n",
              "        vertical-align: top;\n",
              "    }\n",
              "\n",
              "    .dataframe thead th {\n",
              "        text-align: right;\n",
              "    }\n",
              "</style>\n",
              "<table border=\"1\" class=\"dataframe\">\n",
              "  <thead>\n",
              "    <tr style=\"text-align: right;\">\n",
              "      <th></th>\n",
              "      <th>counts</th>\n",
              "      <th>freqs</th>\n",
              "      <th>H(x_i)</th>\n",
              "      <th>F*(x_i)</th>\n",
              "    </tr>\n",
              "    <tr>\n",
              "      <th>categories</th>\n",
              "      <th></th>\n",
              "      <th></th>\n",
              "      <th></th>\n",
              "      <th></th>\n",
              "    </tr>\n",
              "  </thead>\n",
              "  <tbody>\n",
              "    <tr>\n",
              "      <th>(-1.105, 0.0385]</th>\n",
              "      <td>1</td>\n",
              "      <td>0.009091</td>\n",
              "      <td>1</td>\n",
              "      <td>0.009091</td>\n",
              "    </tr>\n",
              "    <tr>\n",
              "      <th>(0.0385, 1.177]</th>\n",
              "      <td>21</td>\n",
              "      <td>0.190909</td>\n",
              "      <td>22</td>\n",
              "      <td>0.200000</td>\n",
              "    </tr>\n",
              "    <tr>\n",
              "      <th>(1.177, 2.315]</th>\n",
              "      <td>47</td>\n",
              "      <td>0.427273</td>\n",
              "      <td>69</td>\n",
              "      <td>0.627273</td>\n",
              "    </tr>\n",
              "    <tr>\n",
              "      <th>(2.315, 3.453]</th>\n",
              "      <td>34</td>\n",
              "      <td>0.309091</td>\n",
              "      <td>103</td>\n",
              "      <td>0.936364</td>\n",
              "    </tr>\n",
              "    <tr>\n",
              "      <th>(3.453, 4.591]</th>\n",
              "      <td>7</td>\n",
              "      <td>0.063636</td>\n",
              "      <td>110</td>\n",
              "      <td>1.000000</td>\n",
              "    </tr>\n",
              "  </tbody>\n",
              "</table>\n",
              "</div>\n",
              "      <button class=\"colab-df-convert\" onclick=\"convertToInteractive('df-708e4240-12b5-4b85-8a64-7065e47df59a')\"\n",
              "              title=\"Convert this dataframe to an interactive table.\"\n",
              "              style=\"display:none;\">\n",
              "        \n",
              "  <svg xmlns=\"http://www.w3.org/2000/svg\" height=\"24px\"viewBox=\"0 0 24 24\"\n",
              "       width=\"24px\">\n",
              "    <path d=\"M0 0h24v24H0V0z\" fill=\"none\"/>\n",
              "    <path d=\"M18.56 5.44l.94 2.06.94-2.06 2.06-.94-2.06-.94-.94-2.06-.94 2.06-2.06.94zm-11 1L8.5 8.5l.94-2.06 2.06-.94-2.06-.94L8.5 2.5l-.94 2.06-2.06.94zm10 10l.94 2.06.94-2.06 2.06-.94-2.06-.94-.94-2.06-.94 2.06-2.06.94z\"/><path d=\"M17.41 7.96l-1.37-1.37c-.4-.4-.92-.59-1.43-.59-.52 0-1.04.2-1.43.59L10.3 9.45l-7.72 7.72c-.78.78-.78 2.05 0 2.83L4 21.41c.39.39.9.59 1.41.59.51 0 1.02-.2 1.41-.59l7.78-7.78 2.81-2.81c.8-.78.8-2.07 0-2.86zM5.41 20L4 18.59l7.72-7.72 1.47 1.35L5.41 20z\"/>\n",
              "  </svg>\n",
              "      </button>\n",
              "      \n",
              "  <style>\n",
              "    .colab-df-container {\n",
              "      display:flex;\n",
              "      flex-wrap:wrap;\n",
              "      gap: 12px;\n",
              "    }\n",
              "\n",
              "    .colab-df-convert {\n",
              "      background-color: #E8F0FE;\n",
              "      border: none;\n",
              "      border-radius: 50%;\n",
              "      cursor: pointer;\n",
              "      display: none;\n",
              "      fill: #1967D2;\n",
              "      height: 32px;\n",
              "      padding: 0 0 0 0;\n",
              "      width: 32px;\n",
              "    }\n",
              "\n",
              "    .colab-df-convert:hover {\n",
              "      background-color: #E2EBFA;\n",
              "      box-shadow: 0px 1px 2px rgba(60, 64, 67, 0.3), 0px 1px 3px 1px rgba(60, 64, 67, 0.15);\n",
              "      fill: #174EA6;\n",
              "    }\n",
              "\n",
              "    [theme=dark] .colab-df-convert {\n",
              "      background-color: #3B4455;\n",
              "      fill: #D2E3FC;\n",
              "    }\n",
              "\n",
              "    [theme=dark] .colab-df-convert:hover {\n",
              "      background-color: #434B5C;\n",
              "      box-shadow: 0px 1px 3px 1px rgba(0, 0, 0, 0.15);\n",
              "      filter: drop-shadow(0px 1px 2px rgba(0, 0, 0, 0.3));\n",
              "      fill: #FFFFFF;\n",
              "    }\n",
              "  </style>\n",
              "\n",
              "      <script>\n",
              "        const buttonEl =\n",
              "          document.querySelector('#df-708e4240-12b5-4b85-8a64-7065e47df59a button.colab-df-convert');\n",
              "        buttonEl.style.display =\n",
              "          google.colab.kernel.accessAllowed ? 'block' : 'none';\n",
              "\n",
              "        async function convertToInteractive(key) {\n",
              "          const element = document.querySelector('#df-708e4240-12b5-4b85-8a64-7065e47df59a');\n",
              "          const dataTable =\n",
              "            await google.colab.kernel.invokeFunction('convertToInteractive',\n",
              "                                                     [key], {});\n",
              "          if (!dataTable) return;\n",
              "\n",
              "          const docLinkHtml = 'Like what you see? Visit the ' +\n",
              "            '<a target=\"_blank\" href=https://colab.research.google.com/notebooks/data_table.ipynb>data table notebook</a>'\n",
              "            + ' to learn more about interactive tables.';\n",
              "          element.innerHTML = '';\n",
              "          dataTable['output_type'] = 'display_data';\n",
              "          await google.colab.output.renderOutput(dataTable, element);\n",
              "          const docLink = document.createElement('div');\n",
              "          docLink.innerHTML = docLinkHtml;\n",
              "          element.appendChild(docLink);\n",
              "        }\n",
              "      </script>\n",
              "    </div>\n",
              "  </div>\n",
              "  "
            ]
          },
          "metadata": {},
          "execution_count": 8
        }
      ]
    },
    {
      "cell_type": "code",
      "source": [
        "#a) Эмпирическая функция распределения\n",
        "# CDF- куммулятивная функция\n",
        "# PDF - функция плотности\n",
        "count, bins_count = np.histogram(y, bins=7)\n",
        "print(bins_count)\n",
        "print(count) \n",
        "print(sum(count))\n",
        "left_bin = bins_count[0:5]\n",
        "right_bin = bins_count[1:6] \n",
        "print(left_bin) \n",
        "print(right_bin)\n",
        "shag = right_bin - left_bin\n",
        "print(shag)\n",
        "# finding the histogram of frequencies using count values\n",
        "pdf = count / sum(count) \n",
        "print(pdf)\n",
        "# using numpy np.cumsum to calculate the CDF\n",
        "# We can also find using the PDF values by looping and adding\n",
        "cdf = np.cumsum(pdf)\n",
        " \n",
        "#plotting PDF and CDF\n",
        "#plt.plot(bins_count[1:], pdf, color=\"red\", label=\"PDF\")\n",
        "plt.plot(bins_count[1:], cdf, label=\"CDF\")\n",
        "plt.legend()"
      ],
      "metadata": {
        "id": "1ZXeJLJtU4ut",
        "colab": {
          "base_uri": "https://localhost:8080/"
        },
        "outputId": "ab376fe5-c473-4e6f-be2a-e907f04981d7"
      },
      "execution_count": null,
      "outputs": [
        {
          "output_type": "stream",
          "name": "stdout",
          "text": [
            "[-1.09960717 -0.28670447  0.52619822  1.33910091  2.15200361  2.9649063\n",
            "  3.77780899  4.59071169]\n",
            "[ 1  2 26 33 30 13  5]\n",
            "110\n",
            "[-1.09960717 -0.28670447  0.52619822  1.33910091  2.15200361]\n",
            "[-0.28670447  0.52619822  1.33910091  2.15200361  2.9649063 ]\n",
            "[0.81290269 0.81290269 0.81290269 0.81290269 0.81290269]\n",
            "[0.00909091 0.01818182 0.23636364 0.3        0.27272727 0.11818182\n",
            " 0.04545455]\n"
          ]
        },
        {
          "output_type": "execute_result",
          "data": {
            "text/plain": [
              "<matplotlib.legend.Legend at 0x7ff2b1b62e90>"
            ]
          },
          "metadata": {},
          "execution_count": 9
        },
        {
          "output_type": "display_data",
          "data": {
            "text/plain": [
              "<Figure size 432x288 with 1 Axes>"
            ],
            "image/png": "[encoded data removed]"
          },
          "metadata": {
            "needs_background": "light"
          }
        }
      ]
    },
    {
      "cell_type": "code",
      "source": [
        "s = pd.Series(data=y)\n",
        "s.hist(density=True, bins = 7)"
      ],
      "metadata": {
        "id": "qFlnxYyPU53T",
        "colab": {
          "base_uri": "https://localhost:8080/"
        },
        "outputId": "340cade0-c584-4d00-dabc-52b12e9f1baf"
      },
      "execution_count": null,
      "outputs": [
        {
          "output_type": "execute_result",
          "data": {
            "text/plain": [
              "<matplotlib.axes._subplots.AxesSubplot at 0x7ff2b0cf11d0>"
            ]
          },
          "metadata": {},
          "execution_count": 10
        },
        {
          "output_type": "display_data",
          "data": {
            "text/plain": [
              "<Figure size 432x288 with 1 Axes>"
            ],
            "image/png": "[encoded data removed]"
          },
          "metadata": {
            "needs_background": "light"
          }
        }
      ]
    },
    {
      "cell_type": "code",
      "source": [
        "#б) гистограмма относительных частот и кривая распределения\n",
        "s = pd.Series(data=y)\n",
        "num_bins = 7\n",
        "n_, bins, patches = plt.hist(y, num_bins, density = 1, color ='green')\n",
        "y_ = ((1 / (np.sqrt(2 * np.pi) * sigma)) *\n",
        "     np.exp(-0.5 * (1 / sigma) * (bins - a)**2))\n",
        "print(y_)\n",
        "  \n",
        "plt.plot(bins, y_, '--', color ='black')\n",
        "#s.hist(density=False)\n",
        "#s.plot(kind='kde', figsize=(10,8))\n",
        "#s.plot(kind='kde', figsize=(10,6))\n",
        "print(bins)"
      ],
      "metadata": {
        "id": "870G3yRaU8nm",
        "colab": {
          "base_uri": "https://localhost:8080/"
        },
        "outputId": "07a2613d-cb11-482a-cbc0-b6b76e647327"
      },
      "execution_count": null,
      "outputs": [
        {
          "output_type": "stream",
          "name": "stdout",
          "text": [
            "[0.0032708  0.02920407 0.1346624  0.32067333 0.39436    0.25045886\n",
            " 0.08214733 0.01391439]\n",
            "[-1.09960717 -0.28670447  0.52619822  1.33910091  2.15200361  2.9649063\n",
            "  3.77780899  4.59071169]\n"
          ]
        },
        {
          "output_type": "display_data",
          "data": {
            "text/plain": [
              "<Figure size 432x288 with 1 Axes>"
            ],
            "image/png": "[encoded data removed]"
          },
          "metadata": {
            "needs_background": "light"
          }
        }
      ]
    },
    {
      "cell_type": "code",
      "source": [
        "#в)\n",
        "df_1 = pd.DataFrame(data=y,columns=['X'])\n",
        "#df_1\n",
        "#print(y)\n",
        "print(y.mean())\n",
        "print(y.std())\n",
        "df_1.boxplot(figsize=(10,7))\n",
        "df_1.quantile([0.25, 0.5, 0.75])"
      ],
      "metadata": {
        "id": "J9wYN6zQVAm5",
        "colab": {
          "base_uri": "https://localhost:8080/"
        },
        "outputId": "b0c7d788-8fc0-47c9-9200-eba182226ba1"
      },
      "execution_count": null,
      "outputs": [
        {
          "output_type": "stream",
          "name": "stdout",
          "text": [
            "2.0191125393675398\n",
            "0.9567320949562618\n"
          ]
        },
        {
          "output_type": "execute_result",
          "data": {
            "text/plain": [
              "             X\n",
              "0.25  1.282367\n",
              "0.50  2.037847\n",
              "0.75  2.596762"
            ],
            "text/html": [
              "\n",
              "  <div id=\"df-2603ddbb-c4c0-4352-8686-a01ac59b69ca\">\n",
              "    <div class=\"colab-df-container\">\n",
              "      <div>\n",
              "<style scoped>\n",
              "    .dataframe tbody tr th:only-of-type {\n",
              "        vertical-align: middle;\n",
              "    }\n",
              "\n",
              "    .dataframe tbody tr th {\n",
              "        vertical-align: top;\n",
              "    }\n",
              "\n",
              "    .dataframe thead th {\n",
              "        text-align: right;\n",
              "    }\n",
              "</style>\n",
              "<table border=\"1\" class=\"dataframe\">\n",
              "  <thead>\n",
              "    <tr style=\"text-align: right;\">\n",
              "      <th></th>\n",
              "      <th>X</th>\n",
              "    </tr>\n",
              "  </thead>\n",
              "  <tbody>\n",
              "    <tr>\n",
              "      <th>0.25</th>\n",
              "      <td>1.282367</td>\n",
              "    </tr>\n",
              "    <tr>\n",
              "      <th>0.50</th>\n",
              "      <td>2.037847</td>\n",
              "    </tr>\n",
              "    <tr>\n",
              "      <th>0.75</th>\n",
              "      <td>2.596762</td>\n",
              "    </tr>\n",
              "  </tbody>\n",
              "</table>\n",
              "</div>\n",
              "      <button class=\"colab-df-convert\" onclick=\"convertToInteractive('df-2603ddbb-c4c0-4352-8686-a01ac59b69ca')\"\n",
              "              title=\"Convert this dataframe to an interactive table.\"\n",
              "              style=\"display:none;\">\n",
              "        \n",
              "  <svg xmlns=\"http://www.w3.org/2000/svg\" height=\"24px\"viewBox=\"0 0 24 24\"\n",
              "       width=\"24px\">\n",
              "    <path d=\"M0 0h24v24H0V0z\" fill=\"none\"/>\n",
              "    <path d=\"M18.56 5.44l.94 2.06.94-2.06 2.06-.94-2.06-.94-.94-2.06-.94 2.06-2.06.94zm-11 1L8.5 8.5l.94-2.06 2.06-.94-2.06-.94L8.5 2.5l-.94 2.06-2.06.94zm10 10l.94 2.06.94-2.06 2.06-.94-2.06-.94-.94-2.06-.94 2.06-2.06.94z\"/><path d=\"M17.41 7.96l-1.37-1.37c-.4-.4-.92-.59-1.43-.59-.52 0-1.04.2-1.43.59L10.3 9.45l-7.72 7.72c-.78.78-.78 2.05 0 2.83L4 21.41c.39.39.9.59 1.41.59.51 0 1.02-.2 1.41-.59l7.78-7.78 2.81-2.81c.8-.78.8-2.07 0-2.86zM5.41 20L4 18.59l7.72-7.72 1.47 1.35L5.41 20z\"/>\n",
              "  </svg>\n",
              "      </button>\n",
              "      \n",
              "  <style>\n",
              "    .colab-df-container {\n",
              "      display:flex;\n",
              "      flex-wrap:wrap;\n",
              "      gap: 12px;\n",
              "    }\n",
              "\n",
              "    .colab-df-convert {\n",
              "      background-color: #E8F0FE;\n",
              "      border: none;\n",
              "      border-radius: 50%;\n",
              "      cursor: pointer;\n",
              "      display: none;\n",
              "      fill: #1967D2;\n",
              "      height: 32px;\n",
              "      padding: 0 0 0 0;\n",
              "      width: 32px;\n",
              "    }\n",
              "\n",
              "    .colab-df-convert:hover {\n",
              "      background-color: #E2EBFA;\n",
              "      box-shadow: 0px 1px 2px rgba(60, 64, 67, 0.3), 0px 1px 3px 1px rgba(60, 64, 67, 0.15);\n",
              "      fill: #174EA6;\n",
              "    }\n",
              "\n",
              "    [theme=dark] .colab-df-convert {\n",
              "      background-color: #3B4455;\n",
              "      fill: #D2E3FC;\n",
              "    }\n",
              "\n",
              "    [theme=dark] .colab-df-convert:hover {\n",
              "      background-color: #434B5C;\n",
              "      box-shadow: 0px 1px 3px 1px rgba(0, 0, 0, 0.15);\n",
              "      filter: drop-shadow(0px 1px 2px rgba(0, 0, 0, 0.3));\n",
              "      fill: #FFFFFF;\n",
              "    }\n",
              "  </style>\n",
              "\n",
              "      <script>\n",
              "        const buttonEl =\n",
              "          document.querySelector('#df-2603ddbb-c4c0-4352-8686-a01ac59b69ca button.colab-df-convert');\n",
              "        buttonEl.style.display =\n",
              "          google.colab.kernel.accessAllowed ? 'block' : 'none';\n",
              "\n",
              "        async function convertToInteractive(key) {\n",
              "          const element = document.querySelector('#df-2603ddbb-c4c0-4352-8686-a01ac59b69ca');\n",
              "          const dataTable =\n",
              "            await google.colab.kernel.invokeFunction('convertToInteractive',\n",
              "                                                     [key], {});\n",
              "          if (!dataTable) return;\n",
              "\n",
              "          const docLinkHtml = 'Like what you see? Visit the ' +\n",
              "            '<a target=\"_blank\" href=https://colab.research.google.com/notebooks/data_table.ipynb>data table notebook</a>'\n",
              "            + ' to learn more about interactive tables.';\n",
              "          element.innerHTML = '';\n",
              "          dataTable['output_type'] = 'display_data';\n",
              "          await google.colab.output.renderOutput(dataTable, element);\n",
              "          const docLink = document.createElement('div');\n",
              "          docLink.innerHTML = docLinkHtml;\n",
              "          element.appendChild(docLink);\n",
              "        }\n",
              "      </script>\n",
              "    </div>\n",
              "  </div>\n",
              "  "
            ]
          },
          "metadata": {},
          "execution_count": 12
        },
        {
          "output_type": "display_data",
          "data": {
            "text/plain": [
              "<Figure size 720x504 with 1 Axes>"
            ],
            "image/png": "[encoded data removed]"
          },
          "metadata": {
            "needs_background": "light"
          }
        }
      ]
    },
    {
      "cell_type": "markdown",
      "source": [
        "1.2"
      ],
      "metadata": {
        "id": "K5POJQfJVHAh"
      }
    },
    {
      "cell_type": "code",
      "source": [
        "#P(|X-M(X)| < qsigma) = 2Ф(qsigma/sigma) = 2Ф(q) = 2Ф(0,8) = 0,57\n",
        "#M(X)-qsigma < X < M(X)+qsigma\n",
        "q = 0.8\n",
        "x_left = a - q*sigma\n",
        "x_right = a + q*sigma\n",
        "print(x_left)\n",
        "print(x_right)\n",
        "\n",
        "m_count = 0;\n",
        "for i in range(n):\n",
        "  if x_right > y[i] > x_left:\n",
        "    m_count += 1\n",
        "print(m_count)\n",
        "\n",
        "p = m_count / n \n",
        "print(p)"
      ],
      "metadata": {
        "id": "RzE52VWhVZFe",
        "colab": {
          "base_uri": "https://localhost:8080/"
        },
        "outputId": "c09eb496-f796-4225-f3b5-3f433fb6172e"
      },
      "execution_count": null,
      "outputs": [
        {
          "output_type": "stream",
          "name": "stdout",
          "text": [
            "1.2\n",
            "2.8\n",
            "68\n",
            "0.6181818181818182\n"
          ]
        }
      ]
    },
    {
      "cell_type": "markdown",
      "source": [
        "1.3"
      ],
      "metadata": {
        "id": "xFbrbUabVmWB"
      }
    },
    {
      "cell_type": "code",
      "source": [
        "#a)\n",
        "y_df = pd.DataFrame(y)\n",
        "print(y_df.describe())\n",
        "\n"
      ],
      "metadata": {
        "id": "wiPTr293VkO2",
        "colab": {
          "base_uri": "https://localhost:8080/"
        },
        "outputId": "fec3195e-5669-421d-8f66-9b76d263329b"
      },
      "execution_count": null,
      "outputs": [
        {
          "output_type": "stream",
          "name": "stdout",
          "text": [
            "                0\n",
            "count  110.000000\n",
            "mean     2.019113\n",
            "std      0.961111\n",
            "min     -1.099607\n",
            "25%      1.282367\n",
            "50%      2.037847\n",
            "75%      2.596762\n",
            "max      4.590712\n"
          ]
        }
      ]
    },
    {
      "cell_type": "markdown",
      "source": [
        "1.4"
      ],
      "metadata": {
        "id": "GbQobMc1VrCn"
      }
    },
    {
      "cell_type": "code",
      "source": [
        "M=750\n",
        "dist = [0]*M\n",
        "\n",
        "for i in range(M):\n",
        "  dist[i] = np.random.normal(a, sigma, size=n)\n",
        "print(dist[1])"
      ],
      "metadata": {
        "id": "3yUFFvowVoYn",
        "colab": {
          "base_uri": "https://localhost:8080/"
        },
        "outputId": "123c4edb-adf4-441b-f2fd-007f73934bff"
      },
      "execution_count": null,
      "outputs": [
        {
          "output_type": "stream",
          "name": "stdout",
          "text": [
            "[ 2.21556647  2.68091333  2.25181688  0.24642134  2.21474294  2.0699847\n",
            "  1.96433799  1.47192732  1.08508406  2.22773349  2.11146881  2.00214568\n",
            "  0.65364862  4.49076721  2.81100622  0.7169608   1.30177927  0.4226648\n",
            "  2.08821955  1.2773815   2.73950517  1.01448276  2.88514751  0.48812426\n",
            "  3.03873278  3.86000263  0.98300276  1.67107346  2.42649635  1.52268523\n",
            "  2.94659769  4.48875133  3.30799014  3.97786638  2.57470994  1.50447929\n",
            "  2.70084351  1.20499087 -1.06500445  2.06012203  2.23021157  1.74335058\n",
            "  2.36226174  0.88662493  1.49451602  2.33166731  0.78940476  2.78630435\n",
            "  1.56323457  3.30456249  2.03956122  1.03444236  2.41852243  3.3778281\n",
            "  0.93487069  0.81729159  1.86863155  2.70418542  2.63020995  1.01040087\n",
            "  0.0324288   2.87913693  0.28770684  1.84897757  2.20636415  1.71070356\n",
            "  3.06382524  1.68502559  2.7044675   2.26612135  2.62065443  1.29215841\n",
            "  2.03629115  0.52290047  2.6933221   2.20022604  1.96098259  2.83786464\n",
            "  3.49445187  2.06976363  2.58684589  0.98084646  2.35918203  1.44597617\n",
            "  0.7608225   4.56266631  0.97886442  1.36077881  3.3444109   0.97920854\n",
            " -0.13118233  1.50420196  2.59425822  3.60282328  3.10745648  1.34862683\n",
            "  2.80112403  2.1183609   0.74103135  1.8379315   3.89580153  1.93088701\n",
            "  1.23561247  2.68404946  2.68861897  0.89735911  3.52097893  1.74577039\n",
            "  2.95022227  1.76075773]\n"
          ]
        }
      ]
    },
    {
      "cell_type": "markdown",
      "source": [
        "1.5"
      ],
      "metadata": {
        "id": "yCXPXGgmVvkk"
      }
    },
    {
      "cell_type": "code",
      "source": [
        "T = [0]*M\n",
        "\n",
        "for i in range(M):\n",
        "  x_i = np.mean(dist[i])\n",
        "  s_i = np.std(dist[i]) ** 2 * n / (n - 1)\n",
        "  T[i] = ((x_i - a) / s_i) * math.sqrt(n)\n",
        "\n",
        "print(T[0:10])"
      ],
      "metadata": {
        "id": "FGkaIncOVw_V",
        "colab": {
          "base_uri": "https://localhost:8080/"
        },
        "outputId": "187ce6c0-1a77-4abf-ecbd-825decf562e9"
      },
      "execution_count": null,
      "outputs": [
        {
          "output_type": "stream",
          "name": "stdout",
          "text": [
            "[-0.9889897609935018, 0.13833457651365805, 0.8411883789047477, 1.1071876326634214, 0.6993689614901988, -1.1273196412045008, -0.6844485988049535, 1.304124998465108, 1.1330256137950143, -0.34527248005685457]\n"
          ]
        }
      ]
    },
    {
      "cell_type": "markdown",
      "source": [
        "1.6"
      ],
      "metadata": {
        "id": "kRv1gddmV0bx"
      }
    },
    {
      "cell_type": "code",
      "source": [
        "s = pd.Series(data=T)\n",
        "s.hist(density=True)"
      ],
      "metadata": {
        "id": "bsEgm-v5V1hX",
        "colab": {
          "base_uri": "https://localhost:8080/"
        },
        "outputId": "7134ecca-c0e5-4fc9-dc64-c7d1dfad5ae5"
      },
      "execution_count": null,
      "outputs": [
        {
          "output_type": "execute_result",
          "data": {
            "text/plain": [
              "<matplotlib.axes._subplots.AxesSubplot at 0x7ff2b0b18790>"
            ]
          },
          "metadata": {},
          "execution_count": 17
        },
        {
          "output_type": "display_data",
          "data": {
            "text/plain": [
              "<Figure size 432x288 with 1 Axes>"
            ],
            "image/png": "[encoded data removed]"
          },
          "metadata": {
            "needs_background": "light"
          }
        }
      ]
    },
    {
      "cell_type": "code",
      "source": [
        "print(stats.shapiro(T))\n",
        "stats.kstest(T, np.random.standard_t(M, 109))"
      ],
      "metadata": {
        "colab": {
          "base_uri": "https://localhost:8080/"
        },
        "id": "5iUiWq6_wj5P",
        "outputId": "55f4430a-7d1e-42e5-c24d-e1b5997ea05d"
      },
      "execution_count": null,
      "outputs": [
        {
          "output_type": "stream",
          "name": "stdout",
          "text": [
            "ShapiroResult(statistic=0.9978421330451965, pvalue=0.45470649003982544)\n"
          ]
        },
        {
          "output_type": "execute_result",
          "data": {
            "text/plain": [
              "KstestResult(statistic=0.10090519877675841, pvalue=0.2666664828283454)"
            ]
          },
          "metadata": {},
          "execution_count": 18
        }
      ]
    },
    {
      "cell_type": "markdown",
      "source": [
        "**Способ 2**"
      ],
      "metadata": {
        "id": "MvmmHX-sXFUG"
      }
    },
    {
      "cell_type": "code",
      "source": [
        "#с помощью преобразования Бокса-Мюлера и random.uniform\n",
        "\n",
        "y_0 = [0.0]*n\n",
        "y_1 = [0.0]*n\n",
        "y_0 = pd.Series(data=y_0)\n",
        "y_1 = pd.Series(data=y_1)\n",
        "\n",
        "u1 = np.random.uniform(0, 1, n)\n",
        "u2 = np.random.uniform(0, 1, n)\n",
        "\n",
        "y_0 = np.cos(2 * np.pi * u1) * np.sqrt(-2 * np.log(u2))\n",
        "y_1 = np.sin(2 * np.pi * u1) * np.sqrt(-2 * np.log(u2))\n",
        "\n",
        "\n",
        "for i in range(n):\n",
        "  y_0[i] = y_0[i] * sigma + a\n",
        "  y_1[i] = y_1[i] * sigma + a"
      ],
      "metadata": {
        "id": "DnKxo0CPyfl6"
      },
      "execution_count": null,
      "outputs": []
    },
    {
      "cell_type": "markdown",
      "source": [
        "1.1"
      ],
      "metadata": {
        "id": "FR7pUZ83XRko"
      }
    },
    {
      "cell_type": "code",
      "source": [
        "y_0 = np.array(y_0)\n",
        "y_1 = np.array(y_1)\n",
        "\n",
        "#print(stats.shapiro(y_0))\n",
        "y_0_bins = pd.cut(y_0, 5)\n",
        "y_1_bins = pd.cut(y_1, 5)\n",
        "print(y_0_bins.describe())\n",
        "print(y_1_bins.describe())"
      ],
      "metadata": {
        "id": "9gN-Ku-dXIaG",
        "colab": {
          "base_uri": "https://localhost:8080/"
        },
        "outputId": "33f1d268-d1d9-44bc-b3db-13b76f1d2085"
      },
      "execution_count": null,
      "outputs": [
        {
          "output_type": "stream",
          "name": "stdout",
          "text": [
            "                  counts     freqs\n",
            "categories                        \n",
            "(-0.0692, 0.817]      15  0.136364\n",
            "(0.817, 1.699]        23  0.209091\n",
            "(1.699, 2.581]        38  0.345455\n",
            "(2.581, 3.463]        28  0.254545\n",
            "(3.463, 4.344]         6  0.054545\n",
            "                 counts     freqs\n",
            "categories                       \n",
            "(-0.982, 0.157]       3  0.027273\n",
            "(0.157, 1.291]       30  0.272727\n",
            "(1.291, 2.424]       47  0.427273\n",
            "(2.424, 3.558]       25  0.227273\n",
            "(3.558, 4.691]        5  0.045455\n"
          ]
        }
      ]
    },
    {
      "cell_type": "code",
      "source": [
        "df_0 = pd.DataFrame(y_0_bins.describe())\n",
        "df_0['H(x_i)'] = y_0_bins.describe().counts.cumsum()\n",
        "\n",
        "df_0['F*(x_i)'] = df_0['H(x_i)'] / n\n",
        "print(df_0)\n",
        "\n",
        "print()\n",
        "\n",
        "df_1 = pd.DataFrame(y_1_bins.describe())\n",
        "df_1['H(x_i)'] = y_1_bins.describe().counts.cumsum()\n",
        "\n",
        "df_1['F*(x_i)'] = df_1['H(x_i)'] / n\n",
        "print(df_1)\n"
      ],
      "metadata": {
        "id": "4Wa3bJwusW3L",
        "colab": {
          "base_uri": "https://localhost:8080/"
        },
        "outputId": "ad3154a4-fd40-4577-ab57-87e812b5b074"
      },
      "execution_count": null,
      "outputs": [
        {
          "output_type": "stream",
          "name": "stdout",
          "text": [
            "                  counts     freqs  H(x_i)   F*(x_i)\n",
            "categories                                          \n",
            "(-0.0692, 0.817]      15  0.136364      15  0.136364\n",
            "(0.817, 1.699]        23  0.209091      38  0.345455\n",
            "(1.699, 2.581]        38  0.345455      76  0.690909\n",
            "(2.581, 3.463]        28  0.254545     104  0.945455\n",
            "(3.463, 4.344]         6  0.054545     110  1.000000\n",
            "\n",
            "                 counts     freqs  H(x_i)   F*(x_i)\n",
            "categories                                         \n",
            "(-0.982, 0.157]       3  0.027273       3  0.027273\n",
            "(0.157, 1.291]       30  0.272727      33  0.300000\n",
            "(1.291, 2.424]       47  0.427273      80  0.727273\n",
            "(2.424, 3.558]       25  0.227273     105  0.954545\n",
            "(3.558, 4.691]        5  0.045455     110  1.000000\n"
          ]
        }
      ]
    },
    {
      "cell_type": "code",
      "source": [
        "#a) Эмпирические функции распределения\n",
        "# CDF0- куммулятивная функция y_0\n",
        "# PDF0 - функция плотности y_0\n",
        "\n",
        "# CDF1- куммулятивная функция y_1\n",
        "# PDF1 - функция плотности y_1\n",
        "def create_cdf(selection):\n",
        "  count, bins_count = np.histogram(y_0, bins=5)\n",
        "  print(bins_count)\n",
        "  print(count) \n",
        "  print(sum(count))\n",
        "  left_bin = bins_count[0:5]\n",
        "  right_bin = bins_count[1:6] \n",
        "  print(left_bin) \n",
        "  print(right_bin)\n",
        "  shag = right_bin-left_bin\n",
        "  print(shag)\n",
        "  # finding the histogram  of frequencies using count values\n",
        "  pdf = count / sum(count) \n",
        "  print(pdf)\n",
        "  # using numpy np.cumsum to calculate the CDF\n",
        "  # We can also find using the PDF values by looping and adding\n",
        "  cdf = np.cumsum(pdf)\n",
        "  return bins_count, cdf\n",
        "\n",
        "bins_count_y0, cdf0 = create_cdf(y_0)\n",
        "bins_count_y1, cdf1 = create_cdf(y_1)\n",
        "\n",
        "  #plotting PDF and CDF\n",
        "  #plt.plot(bins_count[1:], pdf, color=\"red\", label=\"PDF\")\n",
        "plt.plot(bins_count_y0[1:], cdf0, label=\"CDF0\")\n",
        "plt.plot(bins_count_y1[1:], cdf1, label=\"CDF1\")\n",
        "\n",
        "\n",
        "plt.legend()\n",
        "\n",
        "#графики одинаковы и они сливаются"
      ],
      "metadata": {
        "id": "it4ODm8Ksaxx",
        "colab": {
          "base_uri": "https://localhost:8080/"
        },
        "outputId": "44ce2f6f-3d60-48ff-ce07-ba079aa48504"
      },
      "execution_count": null,
      "outputs": [
        {
          "output_type": "stream",
          "name": "stdout",
          "text": [
            "[-0.06476717  0.81706961  1.69890639  2.58074317  3.46257996  4.34441674]\n",
            "[15 23 38 28  6]\n",
            "110\n",
            "[-0.06476717  0.81706961  1.69890639  2.58074317  3.46257996]\n",
            "[0.81706961 1.69890639 2.58074317 3.46257996 4.34441674]\n",
            "[0.88183678 0.88183678 0.88183678 0.88183678 0.88183678]\n",
            "[0.13636364 0.20909091 0.34545455 0.25454545 0.05454545]\n",
            "[-0.06476717  0.81706961  1.69890639  2.58074317  3.46257996  4.34441674]\n",
            "[15 23 38 28  6]\n",
            "110\n",
            "[-0.06476717  0.81706961  1.69890639  2.58074317  3.46257996]\n",
            "[0.81706961 1.69890639 2.58074317 3.46257996 4.34441674]\n",
            "[0.88183678 0.88183678 0.88183678 0.88183678 0.88183678]\n",
            "[0.13636364 0.20909091 0.34545455 0.25454545 0.05454545]\n"
          ]
        },
        {
          "output_type": "execute_result",
          "data": {
            "text/plain": [
              "<matplotlib.legend.Legend at 0x7ff2b0a2ac10>"
            ]
          },
          "metadata": {},
          "execution_count": 22
        },
        {
          "output_type": "display_data",
          "data": {
            "text/plain": [
              "<Figure size 432x288 with 1 Axes>"
            ],
            "image/png": "[encoded data removed]"
          },
          "metadata": {
            "needs_background": "light"
          }
        }
      ]
    },
    {
      "cell_type": "code",
      "source": [
        "#б) гистограмма относительных частот и кривая распределения\n",
        "#s=pd.Series(data=y)\n",
        "#s.hist(density=True, bins = 5)\n",
        "\n",
        "def create_hist(selection):\n",
        "  s = pd.Series(data=selection)\n",
        "  num_bins = 5\n",
        "  n_, bins, patches = plt.hist(selection, num_bins, density = 1, color = 'green')\n",
        "  y_ = ((1 / (np.sqrt(2 * np.pi) * sigma)) *\n",
        "      np.exp(-0.5 * (1 / sigma) * (bins - a)**2))\n",
        "  print(y_)\n",
        "  \n",
        "  plt.plot(bins, y_, '--', color ='black')\n",
        "\n",
        "\n",
        "\n",
        "s.hist(density=False)\n",
        "s.plot(kind='kde', figsize=(10,8))\n",
        "s.plot(kind='kde', figsize=(10,6))\n",
        "print(bins)"
      ],
      "metadata": {
        "id": "6ivd7TbssgEY",
        "colab": {
          "base_uri": "https://localhost:8080/"
        },
        "outputId": "9faab709-8209-4f6e-85e0-4c54bd9637ba"
      },
      "execution_count": null,
      "outputs": [
        {
          "output_type": "stream",
          "name": "stdout",
          "text": [
            "[-1.09960717 -0.28670447  0.52619822  1.33910091  2.15200361  2.9649063\n",
            "  3.77780899  4.59071169]\n"
          ]
        },
        {
          "output_type": "display_data",
          "data": {
            "text/plain": [
              "<Figure size 720x432 with 1 Axes>"
            ],
            "image/png": "[encoded data removed]"
          },
          "metadata": {
            "needs_background": "light"
          }
        }
      ]
    },
    {
      "cell_type": "code",
      "source": [
        "print(\"Y_O\")\n",
        "create_hist(y_0)"
      ],
      "metadata": {
        "id": "bic-CQ7SsilH",
        "colab": {
          "base_uri": "https://localhost:8080/"
        },
        "outputId": "693b6313-765f-481d-859e-c71e39658315"
      },
      "execution_count": null,
      "outputs": [
        {
          "output_type": "stream",
          "name": "stdout",
          "text": [
            "Y_O\n",
            "[0.04733193 0.19817582 0.38126248 0.33703454 0.13689945 0.02555088]\n"
          ]
        },
        {
          "output_type": "display_data",
          "data": {
            "text/plain": [
              "<Figure size 432x288 with 1 Axes>"
            ],
            "image/png": "[encoded data removed]"
          },
          "metadata": {
            "needs_background": "light"
          }
        }
      ]
    },
    {
      "cell_type": "code",
      "source": [
        "print(\"Y_1\")\n",
        "create_hist(y_1)"
      ],
      "metadata": {
        "id": "sMq73WKWsk9j",
        "colab": {
          "base_uri": "https://localhost:8080/"
        },
        "outputId": "eb2b3ed6-3a63-4bda-8ccd-c1621b8196ba"
      },
      "execution_count": null,
      "outputs": [
        {
          "output_type": "stream",
          "name": "stdout",
          "text": [
            "Y_1\n",
            "[0.0047535  0.07300888 0.31020336 0.36460768 0.1185533  0.01066375]\n"
          ]
        },
        {
          "output_type": "display_data",
          "data": {
            "text/plain": [
              "<Figure size 432x288 with 1 Axes>"
            ],
            "image/png": "[encoded data removed]"
          },
          "metadata": {
            "needs_background": "light"
          }
        }
      ]
    },
    {
      "cell_type": "code",
      "source": [
        "#в)\n",
        "df_0 = pd.DataFrame(data=y_0,columns=['X'])\n",
        "#df_1\n",
        "#print(y)\n",
        "print(\"Для распределения y_0\")\n",
        "print(y_0.mean())\n",
        "print(y_0.std())\n",
        "df_0.boxplot(figsize=(10,7))\n",
        "df_0.quantile([0.25, 0.5, 0.75])"
      ],
      "metadata": {
        "id": "jkj7qxAtsnwl",
        "colab": {
          "base_uri": "https://localhost:8080/"
        },
        "outputId": "223c913c-f853-4c07-e391-8d0c97083892"
      },
      "execution_count": null,
      "outputs": [
        {
          "output_type": "stream",
          "name": "stdout",
          "text": [
            "Для распределения y_0\n",
            "2.024711531858678\n",
            "0.9807505692468039\n"
          ]
        },
        {
          "output_type": "execute_result",
          "data": {
            "text/plain": [
              "             X\n",
              "0.25  1.257174\n",
              "0.50  2.077528\n",
              "0.75  2.745004"
            ],
            "text/html": [
              "\n",
              "  <div id=\"df-144732da-6550-489c-91ea-d30bc43067ea\">\n",
              "    <div class=\"colab-df-container\">\n",
              "      <div>\n",
              "<style scoped>\n",
              "    .dataframe tbody tr th:only-of-type {\n",
              "        vertical-align: middle;\n",
              "    }\n",
              "\n",
              "    .dataframe tbody tr th {\n",
              "        vertical-align: top;\n",
              "    }\n",
              "\n",
              "    .dataframe thead th {\n",
              "        text-align: right;\n",
              "    }\n",
              "</style>\n",
              "<table border=\"1\" class=\"dataframe\">\n",
              "  <thead>\n",
              "    <tr style=\"text-align: right;\">\n",
              "      <th></th>\n",
              "      <th>X</th>\n",
              "    </tr>\n",
              "  </thead>\n",
              "  <tbody>\n",
              "    <tr>\n",
              "      <th>0.25</th>\n",
              "      <td>1.257174</td>\n",
              "    </tr>\n",
              "    <tr>\n",
              "      <th>0.50</th>\n",
              "      <td>2.077528</td>\n",
              "    </tr>\n",
              "    <tr>\n",
              "      <th>0.75</th>\n",
              "      <td>2.745004</td>\n",
              "    </tr>\n",
              "  </tbody>\n",
              "</table>\n",
              "</div>\n",
              "      <button class=\"colab-df-convert\" onclick=\"convertToInteractive('df-144732da-6550-489c-91ea-d30bc43067ea')\"\n",
              "              title=\"Convert this dataframe to an interactive table.\"\n",
              "              style=\"display:none;\">\n",
              "        \n",
              "  <svg xmlns=\"http://www.w3.org/2000/svg\" height=\"24px\"viewBox=\"0 0 24 24\"\n",
              "       width=\"24px\">\n",
              "    <path d=\"M0 0h24v24H0V0z\" fill=\"none\"/>\n",
              "    <path d=\"M18.56 5.44l.94 2.06.94-2.06 2.06-.94-2.06-.94-.94-2.06-.94 2.06-2.06.94zm-11 1L8.5 8.5l.94-2.06 2.06-.94-2.06-.94L8.5 2.5l-.94 2.06-2.06.94zm10 10l.94 2.06.94-2.06 2.06-.94-2.06-.94-.94-2.06-.94 2.06-2.06.94z\"/><path d=\"M17.41 7.96l-1.37-1.37c-.4-.4-.92-.59-1.43-.59-.52 0-1.04.2-1.43.59L10.3 9.45l-7.72 7.72c-.78.78-.78 2.05 0 2.83L4 21.41c.39.39.9.59 1.41.59.51 0 1.02-.2 1.41-.59l7.78-7.78 2.81-2.81c.8-.78.8-2.07 0-2.86zM5.41 20L4 18.59l7.72-7.72 1.47 1.35L5.41 20z\"/>\n",
              "  </svg>\n",
              "      </button>\n",
              "      \n",
              "  <style>\n",
              "    .colab-df-container {\n",
              "      display:flex;\n",
              "      flex-wrap:wrap;\n",
              "      gap: 12px;\n",
              "    }\n",
              "\n",
              "    .colab-df-convert {\n",
              "      background-color: #E8F0FE;\n",
              "      border: none;\n",
              "      border-radius: 50%;\n",
              "      cursor: pointer;\n",
              "      display: none;\n",
              "      fill: #1967D2;\n",
              "      height: 32px;\n",
              "      padding: 0 0 0 0;\n",
              "      width: 32px;\n",
              "    }\n",
              "\n",
              "    .colab-df-convert:hover {\n",
              "      background-color: #E2EBFA;\n",
              "      box-shadow: 0px 1px 2px rgba(60, 64, 67, 0.3), 0px 1px 3px 1px rgba(60, 64, 67, 0.15);\n",
              "      fill: #174EA6;\n",
              "    }\n",
              "\n",
              "    [theme=dark] .colab-df-convert {\n",
              "      background-color: #3B4455;\n",
              "      fill: #D2E3FC;\n",
              "    }\n",
              "\n",
              "    [theme=dark] .colab-df-convert:hover {\n",
              "      background-color: #434B5C;\n",
              "      box-shadow: 0px 1px 3px 1px rgba(0, 0, 0, 0.15);\n",
              "      filter: drop-shadow(0px 1px 2px rgba(0, 0, 0, 0.3));\n",
              "      fill: #FFFFFF;\n",
              "    }\n",
              "  </style>\n",
              "\n",
              "      <script>\n",
              "        const buttonEl =\n",
              "          document.querySelector('#df-144732da-6550-489c-91ea-d30bc43067ea button.colab-df-convert');\n",
              "        buttonEl.style.display =\n",
              "          google.colab.kernel.accessAllowed ? 'block' : 'none';\n",
              "\n",
              "        async function convertToInteractive(key) {\n",
              "          const element = document.querySelector('#df-144732da-6550-489c-91ea-d30bc43067ea');\n",
              "          const dataTable =\n",
              "            await google.colab.kernel.invokeFunction('convertToInteractive',\n",
              "                                                     [key], {});\n",
              "          if (!dataTable) return;\n",
              "\n",
              "          const docLinkHtml = 'Like what you see? Visit the ' +\n",
              "            '<a target=\"_blank\" href=https://colab.research.google.com/notebooks/data_table.ipynb>data table notebook</a>'\n",
              "            + ' to learn more about interactive tables.';\n",
              "          element.innerHTML = '';\n",
              "          dataTable['output_type'] = 'display_data';\n",
              "          await google.colab.output.renderOutput(dataTable, element);\n",
              "          const docLink = document.createElement('div');\n",
              "          docLink.innerHTML = docLinkHtml;\n",
              "          element.appendChild(docLink);\n",
              "        }\n",
              "      </script>\n",
              "    </div>\n",
              "  </div>\n",
              "  "
            ]
          },
          "metadata": {},
          "execution_count": 26
        },
        {
          "output_type": "display_data",
          "data": {
            "text/plain": [
              "<Figure size 720x504 with 1 Axes>"
            ],
            "image/png": "[encoded data removed]"
          },
          "metadata": {
            "needs_background": "light"
          }
        }
      ]
    },
    {
      "cell_type": "code",
      "source": [
        "df_1 = pd.DataFrame(data=y_1,columns=['X'])\n",
        "#df_1\n",
        "#print(y)\n",
        "print(\"Для распределения y_1\")\n",
        "print(y_1.mean())\n",
        "print(y_1.std())\n",
        "df_1.boxplot(figsize=(10,7))\n",
        "df_1.quantile([0.25, 0.5, 0.75])"
      ],
      "metadata": {
        "id": "eE1jXCeQsrXE",
        "colab": {
          "base_uri": "https://localhost:8080/"
        },
        "outputId": "5c0b147e-7a4d-470b-8e1d-d608975c603c"
      },
      "execution_count": null,
      "outputs": [
        {
          "output_type": "stream",
          "name": "stdout",
          "text": [
            "Для распределения y_1\n",
            "1.8287856435312488\n",
            "1.003181163643368\n"
          ]
        },
        {
          "output_type": "execute_result",
          "data": {
            "text/plain": [
              "             X\n",
              "0.25  1.166311\n",
              "0.50  1.804180\n",
              "0.75  2.457152"
            ],
            "text/html": [
              "\n",
              "  <div id=\"df-d529d5d9-d0c2-4fcd-b94e-efc70f779ebd\">\n",
              "    <div class=\"colab-df-container\">\n",
              "      <div>\n",
              "<style scoped>\n",
              "    .dataframe tbody tr th:only-of-type {\n",
              "        vertical-align: middle;\n",
              "    }\n",
              "\n",
              "    .dataframe tbody tr th {\n",
              "        vertical-align: top;\n",
              "    }\n",
              "\n",
              "    .dataframe thead th {\n",
              "        text-align: right;\n",
              "    }\n",
              "</style>\n",
              "<table border=\"1\" class=\"dataframe\">\n",
              "  <thead>\n",
              "    <tr style=\"text-align: right;\">\n",
              "      <th></th>\n",
              "      <th>X</th>\n",
              "    </tr>\n",
              "  </thead>\n",
              "  <tbody>\n",
              "    <tr>\n",
              "      <th>0.25</th>\n",
              "      <td>1.166311</td>\n",
              "    </tr>\n",
              "    <tr>\n",
              "      <th>0.50</th>\n",
              "      <td>1.804180</td>\n",
              "    </tr>\n",
              "    <tr>\n",
              "      <th>0.75</th>\n",
              "      <td>2.457152</td>\n",
              "    </tr>\n",
              "  </tbody>\n",
              "</table>\n",
              "</div>\n",
              "      <button class=\"colab-df-convert\" onclick=\"convertToInteractive('df-d529d5d9-d0c2-4fcd-b94e-efc70f779ebd')\"\n",
              "              title=\"Convert this dataframe to an interactive table.\"\n",
              "              style=\"display:none;\">\n",
              "        \n",
              "  <svg xmlns=\"http://www.w3.org/2000/svg\" height=\"24px\"viewBox=\"0 0 24 24\"\n",
              "       width=\"24px\">\n",
              "    <path d=\"M0 0h24v24H0V0z\" fill=\"none\"/>\n",
              "    <path d=\"M18.56 5.44l.94 2.06.94-2.06 2.06-.94-2.06-.94-.94-2.06-.94 2.06-2.06.94zm-11 1L8.5 8.5l.94-2.06 2.06-.94-2.06-.94L8.5 2.5l-.94 2.06-2.06.94zm10 10l.94 2.06.94-2.06 2.06-.94-2.06-.94-.94-2.06-.94 2.06-2.06.94z\"/><path d=\"M17.41 7.96l-1.37-1.37c-.4-.4-.92-.59-1.43-.59-.52 0-1.04.2-1.43.59L10.3 9.45l-7.72 7.72c-.78.78-.78 2.05 0 2.83L4 21.41c.39.39.9.59 1.41.59.51 0 1.02-.2 1.41-.59l7.78-7.78 2.81-2.81c.8-.78.8-2.07 0-2.86zM5.41 20L4 18.59l7.72-7.72 1.47 1.35L5.41 20z\"/>\n",
              "  </svg>\n",
              "      </button>\n",
              "      \n",
              "  <style>\n",
              "    .colab-df-container {\n",
              "      display:flex;\n",
              "      flex-wrap:wrap;\n",
              "      gap: 12px;\n",
              "    }\n",
              "\n",
              "    .colab-df-convert {\n",
              "      background-color: #E8F0FE;\n",
              "      border: none;\n",
              "      border-radius: 50%;\n",
              "      cursor: pointer;\n",
              "      display: none;\n",
              "      fill: #1967D2;\n",
              "      height: 32px;\n",
              "      padding: 0 0 0 0;\n",
              "      width: 32px;\n",
              "    }\n",
              "\n",
              "    .colab-df-convert:hover {\n",
              "      background-color: #E2EBFA;\n",
              "      box-shadow: 0px 1px 2px rgba(60, 64, 67, 0.3), 0px 1px 3px 1px rgba(60, 64, 67, 0.15);\n",
              "      fill: #174EA6;\n",
              "    }\n",
              "\n",
              "    [theme=dark] .colab-df-convert {\n",
              "      background-color: #3B4455;\n",
              "      fill: #D2E3FC;\n",
              "    }\n",
              "\n",
              "    [theme=dark] .colab-df-convert:hover {\n",
              "      background-color: #434B5C;\n",
              "      box-shadow: 0px 1px 3px 1px rgba(0, 0, 0, 0.15);\n",
              "      filter: drop-shadow(0px 1px 2px rgba(0, 0, 0, 0.3));\n",
              "      fill: #FFFFFF;\n",
              "    }\n",
              "  </style>\n",
              "\n",
              "      <script>\n",
              "        const buttonEl =\n",
              "          document.querySelector('#df-d529d5d9-d0c2-4fcd-b94e-efc70f779ebd button.colab-df-convert');\n",
              "        buttonEl.style.display =\n",
              "          google.colab.kernel.accessAllowed ? 'block' : 'none';\n",
              "\n",
              "        async function convertToInteractive(key) {\n",
              "          const element = document.querySelector('#df-d529d5d9-d0c2-4fcd-b94e-efc70f779ebd');\n",
              "          const dataTable =\n",
              "            await google.colab.kernel.invokeFunction('convertToInteractive',\n",
              "                                                     [key], {});\n",
              "          if (!dataTable) return;\n",
              "\n",
              "          const docLinkHtml = 'Like what you see? Visit the ' +\n",
              "            '<a target=\"_blank\" href=https://colab.research.google.com/notebooks/data_table.ipynb>data table notebook</a>'\n",
              "            + ' to learn more about interactive tables.';\n",
              "          element.innerHTML = '';\n",
              "          dataTable['output_type'] = 'display_data';\n",
              "          await google.colab.output.renderOutput(dataTable, element);\n",
              "          const docLink = document.createElement('div');\n",
              "          docLink.innerHTML = docLinkHtml;\n",
              "          element.appendChild(docLink);\n",
              "        }\n",
              "      </script>\n",
              "    </div>\n",
              "  </div>\n",
              "  "
            ]
          },
          "metadata": {},
          "execution_count": 27
        },
        {
          "output_type": "display_data",
          "data": {
            "text/plain": [
              "<Figure size 720x504 with 1 Axes>"
            ],
            "image/png": "[encoded data removed]"
          },
          "metadata": {
            "needs_background": "light"
          }
        }
      ]
    },
    {
      "cell_type": "markdown",
      "source": [
        "1.2"
      ],
      "metadata": {
        "id": "OX3UO6XQszwi"
      }
    },
    {
      "cell_type": "code",
      "source": [
        "#P(|X-M(X)| < qsigma) = 2Ф(qsigma/sigma) = 2Ф(q) = 2Ф(0,8) = 0,57\n",
        "#M(X)-qsigma < X < M(X)+qsigma\n",
        "q=0.8\n",
        "def task_1_2(selection):\n",
        "  x_left = a - q*sigma\n",
        "  x_right = a + q*sigma\n",
        "  print(x_left)\n",
        "  print(x_right)\n",
        "\n",
        "  m_count = 0;\n",
        "  for i in range(n):\n",
        "    if (selection[i] > x_left and selection[i] < x_right):\n",
        "      m_count+=1\n",
        "  #print(m_count)\n",
        "\n",
        "  p = m_count/n \n",
        "  print(p)\n",
        "  print()\n",
        "\n",
        "task_1_2(y_0)\n",
        "task_1_2(y_1)"
      ],
      "metadata": {
        "id": "lx5sUGnis0mY",
        "colab": {
          "base_uri": "https://localhost:8080/"
        },
        "outputId": "9a6c595d-36e0-4ed4-e81b-4f787bff873a"
      },
      "execution_count": null,
      "outputs": [
        {
          "output_type": "stream",
          "name": "stdout",
          "text": [
            "1.2\n",
            "2.8\n",
            "0.5545454545454546\n",
            "\n",
            "1.2\n",
            "2.8\n",
            "0.5727272727272728\n",
            "\n"
          ]
        }
      ]
    },
    {
      "cell_type": "markdown",
      "source": [
        "1.3"
      ],
      "metadata": {
        "id": "jZJD3B92tX7l"
      }
    },
    {
      "cell_type": "code",
      "source": [
        "#a)\n",
        "def point_a(selection):\n",
        "  selection_df=pd.DataFrame(selection)\n",
        "  print(selection_df.describe())\n",
        "\n",
        "#б)\n",
        "def point_b(selection):\n",
        "  average_sample=(1/n)*sum(selection)\n",
        "  print(f'Выборочное среднее:\\t\\t {average_sample}')\n",
        "  variance_sample=(1/(n-1))*sum((selection - average_sample)**2)\n",
        "  print(f'Выборочная дисперсия:\\t\\t {variance_sample}')\n",
        "  standard_deviation = math.sqrt(variance_sample)\n",
        "  print(f'Среднеквадратичное отклонение:\\t {standard_deviation}')\n",
        "\n",
        "\n",
        "print(\"Для распределения y_0\")\n",
        "point_a(y_0)\n",
        "point_b(y_0)\n",
        "print()\n",
        "print(\"Для распределения y_1\")\n",
        "point_a(y_1)\n",
        "point_b(y_1)"
      ],
      "metadata": {
        "id": "FNgbe7ems78w",
        "colab": {
          "base_uri": "https://localhost:8080/"
        },
        "outputId": "2246a190-71e0-4d27-dde8-69fe330fb111"
      },
      "execution_count": null,
      "outputs": [
        {
          "output_type": "stream",
          "name": "stdout",
          "text": [
            "Для распределения y_0\n",
            "                0\n",
            "count  110.000000\n",
            "mean     2.024712\n",
            "std      0.985239\n",
            "min     -0.064767\n",
            "25%      1.257174\n",
            "50%      2.077528\n",
            "75%      2.745004\n",
            "max      4.344417\n",
            "Выборочное среднее:\t\t 2.0247115318586766\n",
            "Выборочная дисперсия:\t\t 0.9706961898951584\n",
            "Среднеквадратичное отклонение:\t 0.9852391536551713\n",
            "\n",
            "Для распределения y_1\n",
            "                0\n",
            "count  110.000000\n",
            "mean     1.828786\n",
            "std      1.007772\n",
            "min     -0.976554\n",
            "25%      1.166311\n",
            "50%      1.804180\n",
            "75%      2.457152\n",
            "max      4.691456\n",
            "Выборочное среднее:\t\t 1.8287856435312484\n",
            "Выборочная дисперсия:\t\t 1.0156052218327962\n",
            "Среднеквадратичное отклонение:\t 1.007772405770666\n"
          ]
        }
      ]
    },
    {
      "cell_type": "markdown",
      "source": [
        "**Способ 3**"
      ],
      "metadata": {
        "id": "AHOoqyNjyp38"
      }
    },
    {
      "cell_type": "code",
      "source": [
        "n=110\n",
        "y_3=[0.0]*n\n",
        "\n",
        "y_3=pd.Series(y_3)\n",
        "y_3 = np.random.normal(a, sigma, n)\n",
        "\n",
        "print(stats.shapiro(y_3))\n",
        "print(y_3)"
      ],
      "metadata": {
        "colab": {
          "base_uri": "https://localhost:8080/"
        },
        "id": "o9-8ea1Dyv-3",
        "outputId": "ebf9c46a-5393-4bf1-f916-9903f22b495f"
      },
      "execution_count": null,
      "outputs": [
        {
          "output_type": "stream",
          "name": "stdout",
          "text": [
            "ShapiroResult(statistic=0.9894613027572632, pvalue=0.5526114106178284)\n",
            "[ 3.35922911  2.65710925 -0.3342572   0.97400808  3.3871266   0.31033936\n",
            "  1.72242073  1.82214047  0.42490065  2.0057117   2.24008116  1.53166332\n",
            "  2.37395629  0.10505356  1.92530288  3.51155817  2.15465393  4.49496178\n",
            "  2.34776887  2.27360693  2.33814975  2.98547005  0.91079545  3.12091226\n",
            "  3.02621951  2.00856767  3.36380199  0.07886386  0.23150771  2.48703438\n",
            "  2.02316425  2.43069237  0.77280932  3.3615409   1.65852793  2.20436356\n",
            "  2.57197863  1.78968018  2.88045976  3.29278192  0.64350264  3.05694605\n",
            "  2.61663864  1.06076915  2.60886215  3.55198956  1.32768015  3.08201373\n",
            "  2.40937187  1.23165604  2.81302712  1.41277916  1.62126627  3.03446434\n",
            "  1.96787507  2.04065825  2.01147174  1.33154662  1.70039106  1.0928961\n",
            "  3.24087622  2.40315121  3.05249759  1.89295214  1.77496266  2.5639882\n",
            "  2.9677753   2.31477506  0.05887453  1.64300442  1.91689802  2.82722472\n",
            " -0.23392652 -0.7292427   0.35253877  2.79430522  2.3096397   2.70417888\n",
            "  2.0835355   1.71122387  2.57550534  1.69433546  2.75999759  3.69883414\n",
            "  4.40544411  3.71590185  1.54996039  3.01161006  2.77701031  1.7736612\n",
            "  0.86341653  0.57796831  2.76570172  0.95129151  0.56294723  2.15631245\n",
            "  2.58092445  1.55082104  2.28149489  2.8723274   1.62230263  0.83234277\n",
            "  0.66603818  1.71695762  3.95220513  4.68152116  2.25144685  1.51547792\n",
            "  2.4885792   3.56023951]\n"
          ]
        }
      ]
    },
    {
      "cell_type": "markdown",
      "source": [
        "1.1"
      ],
      "metadata": {
        "id": "azU5A18nyxMj"
      }
    },
    {
      "cell_type": "code",
      "source": [
        "y_3= np.array(y_3)\n",
        "y_3_bins = pd.cut(y_3, 5)\n",
        "print(y_3_bins.describe())"
      ],
      "metadata": {
        "colab": {
          "base_uri": "https://localhost:8080/"
        },
        "id": "pngpdVMiyyKV",
        "outputId": "22527e91-c246-4b47-f6b9-4ef24ccc4d76"
      },
      "execution_count": null,
      "outputs": [
        {
          "output_type": "stream",
          "name": "stdout",
          "text": [
            "                 counts     freqs\n",
            "categories                       \n",
            "(-0.735, 0.353]       9  0.081818\n",
            "(0.353, 1.435]       17  0.154545\n",
            "(1.435, 2.517]       44  0.400000\n",
            "(2.517, 3.599]       34  0.309091\n",
            "(3.599, 4.682]        6  0.054545\n"
          ]
        }
      ]
    },
    {
      "cell_type": "code",
      "source": [
        "df_3 = pd.DataFrame(y_3_bins.describe())\n",
        "df_3['H(x_i)']=y_3_bins.describe().counts.cumsum()\n",
        "\n",
        "df_3['F*(x_i)']=df_3['H(x_i)']/n\n",
        "df_3"
      ],
      "metadata": {
        "colab": {
          "base_uri": "https://localhost:8080/"
        },
        "id": "aP47-fAMy22u",
        "outputId": "825b1964-830a-4cb0-a950-160b0479b3b7"
      },
      "execution_count": null,
      "outputs": [
        {
          "output_type": "execute_result",
          "data": {
            "text/plain": [
              "                 counts     freqs  H(x_i)   F*(x_i)\n",
              "categories                                         \n",
              "(-0.735, 0.353]       9  0.081818       9  0.081818\n",
              "(0.353, 1.435]       17  0.154545      26  0.236364\n",
              "(1.435, 2.517]       44  0.400000      70  0.636364\n",
              "(2.517, 3.599]       34  0.309091     104  0.945455\n",
              "(3.599, 4.682]        6  0.054545     110  1.000000"
            ],
            "text/html": [
              "\n",
              "  <div id=\"df-d5cdde87-6865-4ff3-8a98-b3e19d49de4c\">\n",
              "    <div class=\"colab-df-container\">\n",
              "      <div>\n",
              "<style scoped>\n",
              "    .dataframe tbody tr th:only-of-type {\n",
              "        vertical-align: middle;\n",
              "    }\n",
              "\n",
              "    .dataframe tbody tr th {\n",
              "        vertical-align: top;\n",
              "    }\n",
              "\n",
              "    .dataframe thead th {\n",
              "        text-align: right;\n",
              "    }\n",
              "</style>\n",
              "<table border=\"1\" class=\"dataframe\">\n",
              "  <thead>\n",
              "    <tr style=\"text-align: right;\">\n",
              "      <th></th>\n",
              "      <th>counts</th>\n",
              "      <th>freqs</th>\n",
              "      <th>H(x_i)</th>\n",
              "      <th>F*(x_i)</th>\n",
              "    </tr>\n",
              "    <tr>\n",
              "      <th>categories</th>\n",
              "      <th></th>\n",
              "      <th></th>\n",
              "      <th></th>\n",
              "      <th></th>\n",
              "    </tr>\n",
              "  </thead>\n",
              "  <tbody>\n",
              "    <tr>\n",
              "      <th>(-0.735, 0.353]</th>\n",
              "      <td>9</td>\n",
              "      <td>0.081818</td>\n",
              "      <td>9</td>\n",
              "      <td>0.081818</td>\n",
              "    </tr>\n",
              "    <tr>\n",
              "      <th>(0.353, 1.435]</th>\n",
              "      <td>17</td>\n",
              "      <td>0.154545</td>\n",
              "      <td>26</td>\n",
              "      <td>0.236364</td>\n",
              "    </tr>\n",
              "    <tr>\n",
              "      <th>(1.435, 2.517]</th>\n",
              "      <td>44</td>\n",
              "      <td>0.400000</td>\n",
              "      <td>70</td>\n",
              "      <td>0.636364</td>\n",
              "    </tr>\n",
              "    <tr>\n",
              "      <th>(2.517, 3.599]</th>\n",
              "      <td>34</td>\n",
              "      <td>0.309091</td>\n",
              "      <td>104</td>\n",
              "      <td>0.945455</td>\n",
              "    </tr>\n",
              "    <tr>\n",
              "      <th>(3.599, 4.682]</th>\n",
              "      <td>6</td>\n",
              "      <td>0.054545</td>\n",
              "      <td>110</td>\n",
              "      <td>1.000000</td>\n",
              "    </tr>\n",
              "  </tbody>\n",
              "</table>\n",
              "</div>\n",
              "      <button class=\"colab-df-convert\" onclick=\"convertToInteractive('df-d5cdde87-6865-4ff3-8a98-b3e19d49de4c')\"\n",
              "              title=\"Convert this dataframe to an interactive table.\"\n",
              "              style=\"display:none;\">\n",
              "        \n",
              "  <svg xmlns=\"http://www.w3.org/2000/svg\" height=\"24px\"viewBox=\"0 0 24 24\"\n",
              "       width=\"24px\">\n",
              "    <path d=\"M0 0h24v24H0V0z\" fill=\"none\"/>\n",
              "    <path d=\"M18.56 5.44l.94 2.06.94-2.06 2.06-.94-2.06-.94-.94-2.06-.94 2.06-2.06.94zm-11 1L8.5 8.5l.94-2.06 2.06-.94-2.06-.94L8.5 2.5l-.94 2.06-2.06.94zm10 10l.94 2.06.94-2.06 2.06-.94-2.06-.94-.94-2.06-.94 2.06-2.06.94z\"/><path d=\"M17.41 7.96l-1.37-1.37c-.4-.4-.92-.59-1.43-.59-.52 0-1.04.2-1.43.59L10.3 9.45l-7.72 7.72c-.78.78-.78 2.05 0 2.83L4 21.41c.39.39.9.59 1.41.59.51 0 1.02-.2 1.41-.59l7.78-7.78 2.81-2.81c.8-.78.8-2.07 0-2.86zM5.41 20L4 18.59l7.72-7.72 1.47 1.35L5.41 20z\"/>\n",
              "  </svg>\n",
              "      </button>\n",
              "      \n",
              "  <style>\n",
              "    .colab-df-container {\n",
              "      display:flex;\n",
              "      flex-wrap:wrap;\n",
              "      gap: 12px;\n",
              "    }\n",
              "\n",
              "    .colab-df-convert {\n",
              "      background-color: #E8F0FE;\n",
              "      border: none;\n",
              "      border-radius: 50%;\n",
              "      cursor: pointer;\n",
              "      display: none;\n",
              "      fill: #1967D2;\n",
              "      height: 32px;\n",
              "      padding: 0 0 0 0;\n",
              "      width: 32px;\n",
              "    }\n",
              "\n",
              "    .colab-df-convert:hover {\n",
              "      background-color: #E2EBFA;\n",
              "      box-shadow: 0px 1px 2px rgba(60, 64, 67, 0.3), 0px 1px 3px 1px rgba(60, 64, 67, 0.15);\n",
              "      fill: #174EA6;\n",
              "    }\n",
              "\n",
              "    [theme=dark] .colab-df-convert {\n",
              "      background-color: #3B4455;\n",
              "      fill: #D2E3FC;\n",
              "    }\n",
              "\n",
              "    [theme=dark] .colab-df-convert:hover {\n",
              "      background-color: #434B5C;\n",
              "      box-shadow: 0px 1px 3px 1px rgba(0, 0, 0, 0.15);\n",
              "      filter: drop-shadow(0px 1px 2px rgba(0, 0, 0, 0.3));\n",
              "      fill: #FFFFFF;\n",
              "    }\n",
              "  </style>\n",
              "\n",
              "      <script>\n",
              "        const buttonEl =\n",
              "          document.querySelector('#df-d5cdde87-6865-4ff3-8a98-b3e19d49de4c button.colab-df-convert');\n",
              "        buttonEl.style.display =\n",
              "          google.colab.kernel.accessAllowed ? 'block' : 'none';\n",
              "\n",
              "        async function convertToInteractive(key) {\n",
              "          const element = document.querySelector('#df-d5cdde87-6865-4ff3-8a98-b3e19d49de4c');\n",
              "          const dataTable =\n",
              "            await google.colab.kernel.invokeFunction('convertToInteractive',\n",
              "                                                     [key], {});\n",
              "          if (!dataTable) return;\n",
              "\n",
              "          const docLinkHtml = 'Like what you see? Visit the ' +\n",
              "            '<a target=\"_blank\" href=https://colab.research.google.com/notebooks/data_table.ipynb>data table notebook</a>'\n",
              "            + ' to learn more about interactive tables.';\n",
              "          element.innerHTML = '';\n",
              "          dataTable['output_type'] = 'display_data';\n",
              "          await google.colab.output.renderOutput(dataTable, element);\n",
              "          const docLink = document.createElement('div');\n",
              "          docLink.innerHTML = docLinkHtml;\n",
              "          element.appendChild(docLink);\n",
              "        }\n",
              "      </script>\n",
              "    </div>\n",
              "  </div>\n",
              "  "
            ]
          },
          "metadata": {},
          "execution_count": 32
        }
      ]
    },
    {
      "cell_type": "code",
      "source": [
        "#a) Эмпирическая функция распределения\n",
        "# CDF- куммулятивная функция\n",
        "# PDF - функция плотности\n",
        "count, bins_count = np.histogram(y_3, bins=5)\n",
        "print(bins_count)\n",
        "print(count) \n",
        "print(sum(count))\n",
        "left_bin = bins_count[0:5]\n",
        "right_bin = bins_count[1:6] \n",
        "print(left_bin) \n",
        "print(right_bin)\n",
        "shag = right_bin-left_bin\n",
        "print(shag)\n",
        "# finding the histogram  of frequencies using count values\n",
        "pdf = count /sum(count) \n",
        "print(pdf)\n",
        "# using numpy np.cumsum to calculate the CDF\n",
        "# We can also find using the PDF values by looping and adding\n",
        "cdf = np.cumsum(pdf)\n",
        " \n",
        "#plotting PDF and CDF\n",
        "#plt.plot(bins_count[1:], pdf, color=\"red\", label=\"PDF\")\n",
        "plt.plot(bins_count[1:], cdf, label=\"CDF\")\n",
        "plt.legend()"
      ],
      "metadata": {
        "colab": {
          "base_uri": "https://localhost:8080/"
        },
        "id": "voveE8f6y7No",
        "outputId": "920184a5-091e-4801-c542-321a8345e6bc"
      },
      "execution_count": null,
      "outputs": [
        {
          "output_type": "stream",
          "name": "stdout",
          "text": [
            "[-0.7292427   0.35291007  1.43506285  2.51721562  3.59936839  4.68152116]\n",
            "[ 9 17 44 34  6]\n",
            "110\n",
            "[-0.7292427   0.35291007  1.43506285  2.51721562  3.59936839]\n",
            "[0.35291007 1.43506285 2.51721562 3.59936839 4.68152116]\n",
            "[1.08215277 1.08215277 1.08215277 1.08215277 1.08215277]\n",
            "[0.08181818 0.15454545 0.4        0.30909091 0.05454545]\n"
          ]
        },
        {
          "output_type": "execute_result",
          "data": {
            "text/plain": [
              "<matplotlib.legend.Legend at 0x7ff2b0ba4610>"
            ]
          },
          "metadata": {},
          "execution_count": 33
        },
        {
          "output_type": "display_data",
          "data": {
            "text/plain": [
              "<Figure size 432x288 with 1 Axes>"
            ],
            "image/png": "[encoded data removed]"
          },
          "metadata": {
            "needs_background": "light"
          }
        }
      ]
    },
    {
      "cell_type": "code",
      "source": [
        "#б) гистограмма относительных частот и кривая распределения\n",
        "s = pd.Series(data=y_3)\n",
        "num_bins = 7\n",
        "n_, bins, patches = plt.hist(y_3, num_bins, density = 1, color ='green')\n",
        "y_ = ((1 / (np.sqrt(2 * np.pi) * sigma)) *\n",
        "     np.exp(-0.5 * (1 / sigma) * (bins - a)**2))\n",
        "print(y_)\n",
        "  \n",
        "plt.plot(bins, y_, '--', color ='black')\n",
        "#s.hist(density=False)\n",
        "#s.plot(kind='kde', figsize=(10,8))\n",
        "#s.plot(kind='kde', figsize=(10,6))\n",
        "print(bins)"
      ],
      "metadata": {
        "colab": {
          "base_uri": "https://localhost:8080/"
        },
        "id": "svDHPtGNy_QR",
        "outputId": "03f8882c-f534-4aee-84e2-336cdf28e445"
      },
      "execution_count": null,
      "outputs": [
        {
          "output_type": "stream",
          "name": "stdout",
          "text": [
            "[0.00962567 0.05886861 0.19808679 0.36672993 0.3735565  0.20935596\n",
            " 0.06455553 0.01095218]\n",
            "[-0.7292427   0.04372357  0.81668983  1.5896561   2.36262236  3.13558863\n",
            "  3.90855489  4.68152116]\n"
          ]
        },
        {
          "output_type": "display_data",
          "data": {
            "text/plain": [
              "<Figure size 432x288 with 1 Axes>"
            ],
            "image/png": "[encoded data removed]"
          },
          "metadata": {
            "needs_background": "light"
          }
        }
      ]
    },
    {
      "cell_type": "code",
      "source": [
        "#в)\n",
        "df_3_1 = pd.DataFrame(data=y_3,columns=['X'])\n",
        "#df_3_1\n",
        "print(y_3.mean())\n",
        "print(y_3.std())\n",
        "df_3_1.boxplot(figsize=(10,7))\n",
        "df_3_1.quantile([0.25, 0.5, 0.75])"
      ],
      "metadata": {
        "colab": {
          "base_uri": "https://localhost:8080/"
        },
        "id": "1GAobGLGzBuh",
        "outputId": "e2bd2c34-7343-4321-f629-fe81158f8f9e"
      },
      "execution_count": null,
      "outputs": [
        {
          "output_type": "stream",
          "name": "stdout",
          "text": [
            "2.086384295608489\n",
            "1.0729633320632874\n"
          ]
        },
        {
          "output_type": "execute_result",
          "data": {
            "text/plain": [
              "             X\n",
              "0.25  1.536238\n",
              "0.50  2.180338\n",
              "0.75  2.808347"
            ],
            "text/html": [
              "\n",
              "  <div id=\"df-84ba140a-7bce-4f33-bbef-92950073be64\">\n",
              "    <div class=\"colab-df-container\">\n",
              "      <div>\n",
              "<style scoped>\n",
              "    .dataframe tbody tr th:only-of-type {\n",
              "        vertical-align: middle;\n",
              "    }\n",
              "\n",
              "    .dataframe tbody tr th {\n",
              "        vertical-align: top;\n",
              "    }\n",
              "\n",
              "    .dataframe thead th {\n",
              "        text-align: right;\n",
              "    }\n",
              "</style>\n",
              "<table border=\"1\" class=\"dataframe\">\n",
              "  <thead>\n",
              "    <tr style=\"text-align: right;\">\n",
              "      <th></th>\n",
              "      <th>X</th>\n",
              "    </tr>\n",
              "  </thead>\n",
              "  <tbody>\n",
              "    <tr>\n",
              "      <th>0.25</th>\n",
              "      <td>1.536238</td>\n",
              "    </tr>\n",
              "    <tr>\n",
              "      <th>0.50</th>\n",
              "      <td>2.180338</td>\n",
              "    </tr>\n",
              "    <tr>\n",
              "      <th>0.75</th>\n",
              "      <td>2.808347</td>\n",
              "    </tr>\n",
              "  </tbody>\n",
              "</table>\n",
              "</div>\n",
              "      <button class=\"colab-df-convert\" onclick=\"convertToInteractive('df-84ba140a-7bce-4f33-bbef-92950073be64')\"\n",
              "              title=\"Convert this dataframe to an interactive table.\"\n",
              "              style=\"display:none;\">\n",
              "        \n",
              "  <svg xmlns=\"http://www.w3.org/2000/svg\" height=\"24px\"viewBox=\"0 0 24 24\"\n",
              "       width=\"24px\">\n",
              "    <path d=\"M0 0h24v24H0V0z\" fill=\"none\"/>\n",
              "    <path d=\"M18.56 5.44l.94 2.06.94-2.06 2.06-.94-2.06-.94-.94-2.06-.94 2.06-2.06.94zm-11 1L8.5 8.5l.94-2.06 2.06-.94-2.06-.94L8.5 2.5l-.94 2.06-2.06.94zm10 10l.94 2.06.94-2.06 2.06-.94-2.06-.94-.94-2.06-.94 2.06-2.06.94z\"/><path d=\"M17.41 7.96l-1.37-1.37c-.4-.4-.92-.59-1.43-.59-.52 0-1.04.2-1.43.59L10.3 9.45l-7.72 7.72c-.78.78-.78 2.05 0 2.83L4 21.41c.39.39.9.59 1.41.59.51 0 1.02-.2 1.41-.59l7.78-7.78 2.81-2.81c.8-.78.8-2.07 0-2.86zM5.41 20L4 18.59l7.72-7.72 1.47 1.35L5.41 20z\"/>\n",
              "  </svg>\n",
              "      </button>\n",
              "      \n",
              "  <style>\n",
              "    .colab-df-container {\n",
              "      display:flex;\n",
              "      flex-wrap:wrap;\n",
              "      gap: 12px;\n",
              "    }\n",
              "\n",
              "    .colab-df-convert {\n",
              "      background-color: #E8F0FE;\n",
              "      border: none;\n",
              "      border-radius: 50%;\n",
              "      cursor: pointer;\n",
              "      display: none;\n",
              "      fill: #1967D2;\n",
              "      height: 32px;\n",
              "      padding: 0 0 0 0;\n",
              "      width: 32px;\n",
              "    }\n",
              "\n",
              "    .colab-df-convert:hover {\n",
              "      background-color: #E2EBFA;\n",
              "      box-shadow: 0px 1px 2px rgba(60, 64, 67, 0.3), 0px 1px 3px 1px rgba(60, 64, 67, 0.15);\n",
              "      fill: #174EA6;\n",
              "    }\n",
              "\n",
              "    [theme=dark] .colab-df-convert {\n",
              "      background-color: #3B4455;\n",
              "      fill: #D2E3FC;\n",
              "    }\n",
              "\n",
              "    [theme=dark] .colab-df-convert:hover {\n",
              "      background-color: #434B5C;\n",
              "      box-shadow: 0px 1px 3px 1px rgba(0, 0, 0, 0.15);\n",
              "      filter: drop-shadow(0px 1px 2px rgba(0, 0, 0, 0.3));\n",
              "      fill: #FFFFFF;\n",
              "    }\n",
              "  </style>\n",
              "\n",
              "      <script>\n",
              "        const buttonEl =\n",
              "          document.querySelector('#df-84ba140a-7bce-4f33-bbef-92950073be64 button.colab-df-convert');\n",
              "        buttonEl.style.display =\n",
              "          google.colab.kernel.accessAllowed ? 'block' : 'none';\n",
              "\n",
              "        async function convertToInteractive(key) {\n",
              "          const element = document.querySelector('#df-84ba140a-7bce-4f33-bbef-92950073be64');\n",
              "          const dataTable =\n",
              "            await google.colab.kernel.invokeFunction('convertToInteractive',\n",
              "                                                     [key], {});\n",
              "          if (!dataTable) return;\n",
              "\n",
              "          const docLinkHtml = 'Like what you see? Visit the ' +\n",
              "            '<a target=\"_blank\" href=https://colab.research.google.com/notebooks/data_table.ipynb>data table notebook</a>'\n",
              "            + ' to learn more about interactive tables.';\n",
              "          element.innerHTML = '';\n",
              "          dataTable['output_type'] = 'display_data';\n",
              "          await google.colab.output.renderOutput(dataTable, element);\n",
              "          const docLink = document.createElement('div');\n",
              "          docLink.innerHTML = docLinkHtml;\n",
              "          element.appendChild(docLink);\n",
              "        }\n",
              "      </script>\n",
              "    </div>\n",
              "  </div>\n",
              "  "
            ]
          },
          "metadata": {},
          "execution_count": 35
        },
        {
          "output_type": "display_data",
          "data": {
            "text/plain": [
              "<Figure size 720x504 with 1 Axes>"
            ],
            "image/png": "[encoded data removed]"
          },
          "metadata": {
            "needs_background": "light"
          }
        }
      ]
    },
    {
      "cell_type": "markdown",
      "source": [
        "1.2"
      ],
      "metadata": {
        "id": "6hYY3MdWzLhR"
      }
    },
    {
      "cell_type": "code",
      "source": [
        "#P(|X-M(X)| < qsigma) = 2Ф(qsigma/sigma) = 2Ф(q) = 2Ф(0,8) = 0,57\n",
        "#M(X)-qsigma < X < M(X)+qsigma\n",
        "q=0.8\n",
        "x_left = a - q*sigma\n",
        "x_right = a + q*sigma\n",
        "print(x_left)\n",
        "print(x_right)\n",
        "\n",
        "m_count = 0;\n",
        "for i in range(n):\n",
        "  if (y_3[i] > x_left and y_3[i] < x_right):\n",
        "    m_count += 1\n",
        "print(m_count)\n",
        "\n",
        "p = m_count/n \n",
        "print(p)"
      ],
      "metadata": {
        "colab": {
          "base_uri": "https://localhost:8080/"
        },
        "id": "SQNGrwYPzM0l",
        "outputId": "72ece4a1-884a-438a-d422-f9600b5c34f6"
      },
      "execution_count": null,
      "outputs": [
        {
          "output_type": "stream",
          "name": "stdout",
          "text": [
            "1.2\n",
            "2.8\n",
            "60\n",
            "0.5454545454545454\n"
          ]
        }
      ]
    },
    {
      "cell_type": "markdown",
      "source": [
        "1.3"
      ],
      "metadata": {
        "id": "2EvMQ3uVzT1v"
      }
    },
    {
      "cell_type": "code",
      "source": [
        "#a)\n",
        "#print(y_3)\n",
        "y_3_df = pd.DataFrame(y_3)\n",
        "print(y_3_df.describe())\n",
        "\n",
        "#б)\n",
        "average_sample=(1/n)*sum(y_3)\n",
        "print(f'Выборочное среднее:\\t\\t {average_sample}')\n",
        "variance_sample=(1/(n-1))*((y_3 - average_sample)**2).sum()\n",
        "print(f'Выборочная дисперсия:\\t\\t {variance_sample}')\n",
        "standard_deviation = math.sqrt(variance_sample)\n",
        "print(f'Среднеквадратичное отклонение:\\t {standard_deviation}')"
      ],
      "metadata": {
        "colab": {
          "base_uri": "https://localhost:8080/"
        },
        "id": "LhW9w0sdzTCE",
        "outputId": "0a614d7a-18eb-4ef6-ec7b-07364f090f0b"
      },
      "execution_count": null,
      "outputs": [
        {
          "output_type": "stream",
          "name": "stdout",
          "text": [
            "                0\n",
            "count  110.000000\n",
            "mean     2.086384\n",
            "std      1.077874\n",
            "min     -0.729243\n",
            "25%      1.536238\n",
            "50%      2.180338\n",
            "75%      2.808347\n",
            "max      4.681521\n",
            "Выборочное среднее:\t\t 2.086384295608488\n",
            "Выборочная дисперсия:\t\t 1.161812241419805\n",
            "Среднеквадратичное отклонение:\t 1.0778739450509995\n"
          ]
        }
      ]
    },
    {
      "cell_type": "markdown",
      "source": [
        "# Задание 2"
      ],
      "metadata": {
        "id": "6V6_8Gl38pLT"
      }
    },
    {
      "cell_type": "code",
      "source": [
        "n=110\n",
        "y=[0.0]*n\n",
        "k = 5\n",
        "\n",
        "y = pd.Series(y)\n",
        "y = np.random.chisquare(k, n)\n",
        "\n",
        "print(stats.shapiro(y))\n",
        "# print(y)"
      ],
      "metadata": {
        "colab": {
          "base_uri": "https://localhost:8080/"
        },
        "id": "lu6Z07ysDJGe",
        "outputId": "e4d6a240-a8d2-4b19-bfd8-bd94925d0c58"
      },
      "execution_count": null,
      "outputs": [
        {
          "output_type": "stream",
          "name": "stdout",
          "text": [
            "ShapiroResult(statistic=0.8757144212722778, pvalue=3.933931580490935e-08)\n"
          ]
        }
      ]
    },
    {
      "cell_type": "markdown",
      "source": [
        "2.1"
      ],
      "metadata": {
        "id": "RufbexCkEfsg"
      }
    },
    {
      "cell_type": "code",
      "source": [
        "y = np.array(y)\n",
        "y_bins = pd.cut(y, 5)\n",
        "print(y_bins.describe())"
      ],
      "metadata": {
        "colab": {
          "base_uri": "https://localhost:8080/"
        },
        "id": "sCg8UgV2Ehg-",
        "outputId": "387b1d2a-f388-4f80-8a45-0d576804a305"
      },
      "execution_count": null,
      "outputs": [
        {
          "output_type": "stream",
          "name": "stdout",
          "text": [
            "                 counts     freqs\n",
            "categories                       \n",
            "(0.501, 4.667]       57  0.518182\n",
            "(4.667, 8.811]       36  0.327273\n",
            "(8.811, 12.955]      13  0.118182\n",
            "(12.955, 17.1]        3  0.027273\n",
            "(17.1, 21.244]        1  0.009091\n"
          ]
        }
      ]
    },
    {
      "cell_type": "code",
      "source": [
        "df = pd.DataFrame(y_bins.describe())\n",
        "df['H(x_i)'] = y_bins.describe().counts.cumsum()\n",
        "\n",
        "df['F*(x_i)'] = df['H(x_i)']/n\n",
        "df"
      ],
      "metadata": {
        "colab": {
          "base_uri": "https://localhost:8080/"
        },
        "id": "TGcKrTYEFae9",
        "outputId": "5646435a-1dfe-4939-db53-83db5c660c0c"
      },
      "execution_count": null,
      "outputs": [
        {
          "output_type": "execute_result",
          "data": {
            "text/plain": [
              "                 counts     freqs  H(x_i)   F*(x_i)\n",
              "categories                                         \n",
              "(0.501, 4.667]       57  0.518182      57  0.518182\n",
              "(4.667, 8.811]       36  0.327273      93  0.845455\n",
              "(8.811, 12.955]      13  0.118182     106  0.963636\n",
              "(12.955, 17.1]        3  0.027273     109  0.990909\n",
              "(17.1, 21.244]        1  0.009091     110  1.000000"
            ],
            "text/html": [
              "\n",
              "  <div id=\"df-e5ec6a92-bf6b-4c2f-aaef-78e7d80d9da8\">\n",
              "    <div class=\"colab-df-container\">\n",
              "      <div>\n",
              "<style scoped>\n",
              "    .dataframe tbody tr th:only-of-type {\n",
              "        vertical-align: middle;\n",
              "    }\n",
              "\n",
              "    .dataframe tbody tr th {\n",
              "        vertical-align: top;\n",
              "    }\n",
              "\n",
              "    .dataframe thead th {\n",
              "        text-align: right;\n",
              "    }\n",
              "</style>\n",
              "<table border=\"1\" class=\"dataframe\">\n",
              "  <thead>\n",
              "    <tr style=\"text-align: right;\">\n",
              "      <th></th>\n",
              "      <th>counts</th>\n",
              "      <th>freqs</th>\n",
              "      <th>H(x_i)</th>\n",
              "      <th>F*(x_i)</th>\n",
              "    </tr>\n",
              "    <tr>\n",
              "      <th>categories</th>\n",
              "      <th></th>\n",
              "      <th></th>\n",
              "      <th></th>\n",
              "      <th></th>\n",
              "    </tr>\n",
              "  </thead>\n",
              "  <tbody>\n",
              "    <tr>\n",
              "      <th>(0.501, 4.667]</th>\n",
              "      <td>57</td>\n",
              "      <td>0.518182</td>\n",
              "      <td>57</td>\n",
              "      <td>0.518182</td>\n",
              "    </tr>\n",
              "    <tr>\n",
              "      <th>(4.667, 8.811]</th>\n",
              "      <td>36</td>\n",
              "      <td>0.327273</td>\n",
              "      <td>93</td>\n",
              "      <td>0.845455</td>\n",
              "    </tr>\n",
              "    <tr>\n",
              "      <th>(8.811, 12.955]</th>\n",
              "      <td>13</td>\n",
              "      <td>0.118182</td>\n",
              "      <td>106</td>\n",
              "      <td>0.963636</td>\n",
              "    </tr>\n",
              "    <tr>\n",
              "      <th>(12.955, 17.1]</th>\n",
              "      <td>3</td>\n",
              "      <td>0.027273</td>\n",
              "      <td>109</td>\n",
              "      <td>0.990909</td>\n",
              "    </tr>\n",
              "    <tr>\n",
              "      <th>(17.1, 21.244]</th>\n",
              "      <td>1</td>\n",
              "      <td>0.009091</td>\n",
              "      <td>110</td>\n",
              "      <td>1.000000</td>\n",
              "    </tr>\n",
              "  </tbody>\n",
              "</table>\n",
              "</div>\n",
              "      <button class=\"colab-df-convert\" onclick=\"convertToInteractive('df-e5ec6a92-bf6b-4c2f-aaef-78e7d80d9da8')\"\n",
              "              title=\"Convert this dataframe to an interactive table.\"\n",
              "              style=\"display:none;\">\n",
              "        \n",
              "  <svg xmlns=\"http://www.w3.org/2000/svg\" height=\"24px\"viewBox=\"0 0 24 24\"\n",
              "       width=\"24px\">\n",
              "    <path d=\"M0 0h24v24H0V0z\" fill=\"none\"/>\n",
              "    <path d=\"M18.56 5.44l.94 2.06.94-2.06 2.06-.94-2.06-.94-.94-2.06-.94 2.06-2.06.94zm-11 1L8.5 8.5l.94-2.06 2.06-.94-2.06-.94L8.5 2.5l-.94 2.06-2.06.94zm10 10l.94 2.06.94-2.06 2.06-.94-2.06-.94-.94-2.06-.94 2.06-2.06.94z\"/><path d=\"M17.41 7.96l-1.37-1.37c-.4-.4-.92-.59-1.43-.59-.52 0-1.04.2-1.43.59L10.3 9.45l-7.72 7.72c-.78.78-.78 2.05 0 2.83L4 21.41c.39.39.9.59 1.41.59.51 0 1.02-.2 1.41-.59l7.78-7.78 2.81-2.81c.8-.78.8-2.07 0-2.86zM5.41 20L4 18.59l7.72-7.72 1.47 1.35L5.41 20z\"/>\n",
              "  </svg>\n",
              "      </button>\n",
              "      \n",
              "  <style>\n",
              "    .colab-df-container {\n",
              "      display:flex;\n",
              "      flex-wrap:wrap;\n",
              "      gap: 12px;\n",
              "    }\n",
              "\n",
              "    .colab-df-convert {\n",
              "      background-color: #E8F0FE;\n",
              "      border: none;\n",
              "      border-radius: 50%;\n",
              "      cursor: pointer;\n",
              "      display: none;\n",
              "      fill: #1967D2;\n",
              "      height: 32px;\n",
              "      padding: 0 0 0 0;\n",
              "      width: 32px;\n",
              "    }\n",
              "\n",
              "    .colab-df-convert:hover {\n",
              "      background-color: #E2EBFA;\n",
              "      box-shadow: 0px 1px 2px rgba(60, 64, 67, 0.3), 0px 1px 3px 1px rgba(60, 64, 67, 0.15);\n",
              "      fill: #174EA6;\n",
              "    }\n",
              "\n",
              "    [theme=dark] .colab-df-convert {\n",
              "      background-color: #3B4455;\n",
              "      fill: #D2E3FC;\n",
              "    }\n",
              "\n",
              "    [theme=dark] .colab-df-convert:hover {\n",
              "      background-color: #434B5C;\n",
              "      box-shadow: 0px 1px 3px 1px rgba(0, 0, 0, 0.15);\n",
              "      filter: drop-shadow(0px 1px 2px rgba(0, 0, 0, 0.3));\n",
              "      fill: #FFFFFF;\n",
              "    }\n",
              "  </style>\n",
              "\n",
              "      <script>\n",
              "        const buttonEl =\n",
              "          document.querySelector('#df-e5ec6a92-bf6b-4c2f-aaef-78e7d80d9da8 button.colab-df-convert');\n",
              "        buttonEl.style.display =\n",
              "          google.colab.kernel.accessAllowed ? 'block' : 'none';\n",
              "\n",
              "        async function convertToInteractive(key) {\n",
              "          const element = document.querySelector('#df-e5ec6a92-bf6b-4c2f-aaef-78e7d80d9da8');\n",
              "          const dataTable =\n",
              "            await google.colab.kernel.invokeFunction('convertToInteractive',\n",
              "                                                     [key], {});\n",
              "          if (!dataTable) return;\n",
              "\n",
              "          const docLinkHtml = 'Like what you see? Visit the ' +\n",
              "            '<a target=\"_blank\" href=https://colab.research.google.com/notebooks/data_table.ipynb>data table notebook</a>'\n",
              "            + ' to learn more about interactive tables.';\n",
              "          element.innerHTML = '';\n",
              "          dataTable['output_type'] = 'display_data';\n",
              "          await google.colab.output.renderOutput(dataTable, element);\n",
              "          const docLink = document.createElement('div');\n",
              "          docLink.innerHTML = docLinkHtml;\n",
              "          element.appendChild(docLink);\n",
              "        }\n",
              "      </script>\n",
              "    </div>\n",
              "  </div>\n",
              "  "
            ]
          },
          "metadata": {},
          "execution_count": 40
        }
      ]
    },
    {
      "cell_type": "code",
      "source": [
        "#a) Эмпирическая функция распределения\n",
        "# CDF- куммулятивная функция\n",
        "# PDF - функция плотности\n",
        "count, bins_count = np.histogram(y, bins = 5)\n",
        "print(bins_count)\n",
        "print(count) \n",
        "print(sum(count))\n",
        "left_bin = bins_count[0:5]\n",
        "right_bin = bins_count[1:6] \n",
        "print(left_bin) \n",
        "print(right_bin)\n",
        "shag=right_bin-left_bin\n",
        "print(shag)\n",
        "# finding the histogram  of frequencies using count values\n",
        "pdf = count /sum(count) \n",
        "print(pdf)\n",
        "# using numpy np.cumsum to calculate the CDF\n",
        "# We can also find using the PDF values by looping and adding\n",
        "cdf = np.cumsum(pdf)"
      ],
      "metadata": {
        "colab": {
          "base_uri": "https://localhost:8080/"
        },
        "id": "7PoAddHYvVZJ",
        "outputId": "6c533774-24b6-4dcf-ee8b-a9b8eff0ecd2"
      },
      "execution_count": null,
      "outputs": [
        {
          "output_type": "stream",
          "name": "stdout",
          "text": [
            "[ 0.52218033  4.66657657  8.81097281 12.95536905 17.09976528 21.24416152]\n",
            "[57 36 13  3  1]\n",
            "110\n",
            "[ 0.52218033  4.66657657  8.81097281 12.95536905 17.09976528]\n",
            "[ 4.66657657  8.81097281 12.95536905 17.09976528 21.24416152]\n",
            "[4.14439624 4.14439624 4.14439624 4.14439624 4.14439624]\n",
            "[0.51818182 0.32727273 0.11818182 0.02727273 0.00909091]\n"
          ]
        }
      ]
    },
    {
      "cell_type": "code",
      "source": [
        "#б)\n",
        "#plotting TDF(theoretical distribution function) and CDF\n",
        "plt.plot(bins_count[1:], df['F*(x_i)'], color=\"red\", label=\"TDF\")\n",
        "plt.plot(bins_count[1:], cdf, label=\"CDF\")\n",
        "plt.legend()"
      ],
      "metadata": {
        "colab": {
          "base_uri": "https://localhost:8080/"
        },
        "id": "mIlsLffyvt6S",
        "outputId": "9c22d575-775a-41ca-fa80-89648d10dcb5"
      },
      "execution_count": null,
      "outputs": [
        {
          "output_type": "execute_result",
          "data": {
            "text/plain": [
              "<matplotlib.legend.Legend at 0x7ff2b08ccb10>"
            ]
          },
          "metadata": {},
          "execution_count": 42
        },
        {
          "output_type": "display_data",
          "data": {
            "text/plain": [
              "<Figure size 432x288 with 1 Axes>"
            ],
            "image/png": "[encoded data removed]"
          },
          "metadata": {
            "needs_background": "light"
          }
        }
      ]
    },
    {
      "cell_type": "code",
      "source": [
        "#в) гистограмма относительных частот и кривая распределения\n",
        "s=pd.Series(data=y)\n",
        "num_bins=8\n",
        "n_, bins, patches = plt.hist(y, num_bins, density = 1, color ='green')\n",
        "# y_ = 1 - np.exp(-1 * bins**2/(2*sigma**2))\n",
        "y_ = (pow(bins, (k / 2) - 1) * np.exp(-1 * bins / 2)) / (math.gamma(k / 2) * pow(2, k / 2))\n",
        "\n",
        "print(y_)\n",
        "  \n",
        "plt.plot(bins, y_, '--', color ='black')\n",
        "#s.hist(density=False)\n",
        "#s.plot(kind='kde', figsize=(10,8))\n",
        "#s.plot(kind='kde', figsize=(10,6))\n",
        "print(bins)"
      ],
      "metadata": {
        "colab": {
          "base_uri": "https://localhost:8080/"
        },
        "id": "m6KWJ69jv0Rh",
        "outputId": "7914fcad-7282-42c7-f970-fedd610ffcbf"
      },
      "execution_count": null,
      "outputs": [
        {
          "output_type": "stream",
          "name": "stdout",
          "text": [
            "[0.03864823 0.15402195 0.10461321 0.05024176 0.02068576 0.00780351\n",
            " 0.00278211 0.00095345 0.00031735]\n",
            "[ 0.52218033  3.11242798  5.70267563  8.29292328 10.88317093 13.47341857\n",
            " 16.06366622 18.65391387 21.24416152]\n"
          ]
        },
        {
          "output_type": "display_data",
          "data": {
            "text/plain": [
              "<Figure size 432x288 with 1 Axes>"
            ],
            "image/png": "[encoded data removed]"
          },
          "metadata": {
            "needs_background": "light"
          }
        }
      ]
    },
    {
      "cell_type": "code",
      "source": [
        "#г)\n",
        "df_y = pd.DataFrame(data=y,columns=['X'])\n",
        "#df_3_1\n",
        "print(y.mean())\n",
        "print(y.std())\n",
        "df_y.boxplot(figsize=(10,7))\n",
        "df_y.quantile([0.25, 0.5, 0.75])"
      ],
      "metadata": {
        "colab": {
          "base_uri": "https://localhost:8080/"
        },
        "id": "R97JRA3Sv1EJ",
        "outputId": "051a8d46-4002-4aa3-a959-33e6a21c9042"
      },
      "execution_count": null,
      "outputs": [
        {
          "output_type": "stream",
          "name": "stdout",
          "text": [
            "5.247661107421429\n",
            "3.54363055493867\n"
          ]
        },
        {
          "output_type": "execute_result",
          "data": {
            "text/plain": [
              "             X\n",
              "0.25  2.792471\n",
              "0.50  4.518857\n",
              "0.75  6.745349"
            ],
            "text/html": [
              "\n",
              "  <div id=\"df-1fae810a-88e5-4096-b01d-abe04382fa9f\">\n",
              "    <div class=\"colab-df-container\">\n",
              "      <div>\n",
              "<style scoped>\n",
              "    .dataframe tbody tr th:only-of-type {\n",
              "        vertical-align: middle;\n",
              "    }\n",
              "\n",
              "    .dataframe tbody tr th {\n",
              "        vertical-align: top;\n",
              "    }\n",
              "\n",
              "    .dataframe thead th {\n",
              "        text-align: right;\n",
              "    }\n",
              "</style>\n",
              "<table border=\"1\" class=\"dataframe\">\n",
              "  <thead>\n",
              "    <tr style=\"text-align: right;\">\n",
              "      <th></th>\n",
              "      <th>X</th>\n",
              "    </tr>\n",
              "  </thead>\n",
              "  <tbody>\n",
              "    <tr>\n",
              "      <th>0.25</th>\n",
              "      <td>2.792471</td>\n",
              "    </tr>\n",
              "    <tr>\n",
              "      <th>0.50</th>\n",
              "      <td>4.518857</td>\n",
              "    </tr>\n",
              "    <tr>\n",
              "      <th>0.75</th>\n",
              "      <td>6.745349</td>\n",
              "    </tr>\n",
              "  </tbody>\n",
              "</table>\n",
              "</div>\n",
              "      <button class=\"colab-df-convert\" onclick=\"convertToInteractive('df-1fae810a-88e5-4096-b01d-abe04382fa9f')\"\n",
              "              title=\"Convert this dataframe to an interactive table.\"\n",
              "              style=\"display:none;\">\n",
              "        \n",
              "  <svg xmlns=\"http://www.w3.org/2000/svg\" height=\"24px\"viewBox=\"0 0 24 24\"\n",
              "       width=\"24px\">\n",
              "    <path d=\"M0 0h24v24H0V0z\" fill=\"none\"/>\n",
              "    <path d=\"M18.56 5.44l.94 2.06.94-2.06 2.06-.94-2.06-.94-.94-2.06-.94 2.06-2.06.94zm-11 1L8.5 8.5l.94-2.06 2.06-.94-2.06-.94L8.5 2.5l-.94 2.06-2.06.94zm10 10l.94 2.06.94-2.06 2.06-.94-2.06-.94-.94-2.06-.94 2.06-2.06.94z\"/><path d=\"M17.41 7.96l-1.37-1.37c-.4-.4-.92-.59-1.43-.59-.52 0-1.04.2-1.43.59L10.3 9.45l-7.72 7.72c-.78.78-.78 2.05 0 2.83L4 21.41c.39.39.9.59 1.41.59.51 0 1.02-.2 1.41-.59l7.78-7.78 2.81-2.81c.8-.78.8-2.07 0-2.86zM5.41 20L4 18.59l7.72-7.72 1.47 1.35L5.41 20z\"/>\n",
              "  </svg>\n",
              "      </button>\n",
              "      \n",
              "  <style>\n",
              "    .colab-df-container {\n",
              "      display:flex;\n",
              "      flex-wrap:wrap;\n",
              "      gap: 12px;\n",
              "    }\n",
              "\n",
              "    .colab-df-convert {\n",
              "      background-color: #E8F0FE;\n",
              "      border: none;\n",
              "      border-radius: 50%;\n",
              "      cursor: pointer;\n",
              "      display: none;\n",
              "      fill: #1967D2;\n",
              "      height: 32px;\n",
              "      padding: 0 0 0 0;\n",
              "      width: 32px;\n",
              "    }\n",
              "\n",
              "    .colab-df-convert:hover {\n",
              "      background-color: #E2EBFA;\n",
              "      box-shadow: 0px 1px 2px rgba(60, 64, 67, 0.3), 0px 1px 3px 1px rgba(60, 64, 67, 0.15);\n",
              "      fill: #174EA6;\n",
              "    }\n",
              "\n",
              "    [theme=dark] .colab-df-convert {\n",
              "      background-color: #3B4455;\n",
              "      fill: #D2E3FC;\n",
              "    }\n",
              "\n",
              "    [theme=dark] .colab-df-convert:hover {\n",
              "      background-color: #434B5C;\n",
              "      box-shadow: 0px 1px 3px 1px rgba(0, 0, 0, 0.15);\n",
              "      filter: drop-shadow(0px 1px 2px rgba(0, 0, 0, 0.3));\n",
              "      fill: #FFFFFF;\n",
              "    }\n",
              "  </style>\n",
              "\n",
              "      <script>\n",
              "        const buttonEl =\n",
              "          document.querySelector('#df-1fae810a-88e5-4096-b01d-abe04382fa9f button.colab-df-convert');\n",
              "        buttonEl.style.display =\n",
              "          google.colab.kernel.accessAllowed ? 'block' : 'none';\n",
              "\n",
              "        async function convertToInteractive(key) {\n",
              "          const element = document.querySelector('#df-1fae810a-88e5-4096-b01d-abe04382fa9f');\n",
              "          const dataTable =\n",
              "            await google.colab.kernel.invokeFunction('convertToInteractive',\n",
              "                                                     [key], {});\n",
              "          if (!dataTable) return;\n",
              "\n",
              "          const docLinkHtml = 'Like what you see? Visit the ' +\n",
              "            '<a target=\"_blank\" href=https://colab.research.google.com/notebooks/data_table.ipynb>data table notebook</a>'\n",
              "            + ' to learn more about interactive tables.';\n",
              "          element.innerHTML = '';\n",
              "          dataTable['output_type'] = 'display_data';\n",
              "          await google.colab.output.renderOutput(dataTable, element);\n",
              "          const docLink = document.createElement('div');\n",
              "          docLink.innerHTML = docLinkHtml;\n",
              "          element.appendChild(docLink);\n",
              "        }\n",
              "      </script>\n",
              "    </div>\n",
              "  </div>\n",
              "  "
            ]
          },
          "metadata": {},
          "execution_count": 44
        },
        {
          "output_type": "display_data",
          "data": {
            "text/plain": [
              "<Figure size 720x504 with 1 Axes>"
            ],
            "image/png": "[encoded data removed]"
          },
          "metadata": {
            "needs_background": "light"
          }
        }
      ]
    },
    {
      "cell_type": "markdown",
      "source": [
        "2.2"
      ],
      "metadata": {
        "id": "lihDpKxvXFCX"
      }
    },
    {
      "cell_type": "code",
      "source": [
        "q=0.75\n",
        "\n",
        "x_1 = math.sqrt(math.pi / 2) - q*sigma*math.sqrt(2-math.pi/ 2)\n",
        "x_2 = math.sqrt(math.pi / 2) + q*sigma*math.sqrt(2-math.pi/ 2)\n",
        "print(x_1)\n",
        "print(x_2)\n",
        "\n",
        "# 1 часть\n",
        "def F(x):\n",
        "  F = (pow(x, (k / 2) - 1) * np.exp(-1 * x / 2)) / (math.gamma(k / 2) * pow(2, k / 2))\n",
        "  return F\n",
        "\n",
        "p1=F(x_2) - F(x_1)\n",
        "print(f'P1= {p1}')\n",
        "\n",
        "m_count = 0;\n",
        "for i in range(n):\n",
        "  if (y[i] > x_1 and y[i] < x_2):\n",
        "    m_count+=1\n",
        "#print(m_count)\n",
        "\n",
        "p2 = m_count/n \n",
        "print(f'P2= {p2}')"
      ],
      "metadata": {
        "colab": {
          "base_uri": "https://localhost:8080/"
        },
        "id": "nqUV68OTXEuE",
        "outputId": "58aa49f2-5aba-407b-8ac8-a5f715a6a479"
      },
      "execution_count": null,
      "outputs": [
        {
          "output_type": "stream",
          "name": "stdout",
          "text": [
            "0.761961854143975\n",
            "1.7446664204870252\n",
            "P1= 0.06766088442410806\n",
            "P2= 0.07272727272727272\n"
          ]
        }
      ]
    },
    {
      "cell_type": "markdown",
      "source": [
        "2.3"
      ],
      "metadata": {
        "id": "-Ht3erbPXK_G"
      }
    },
    {
      "cell_type": "code",
      "source": [
        "#1)с помощью describe()\n",
        "y_df=pd.DataFrame(y)\n",
        "print(y_df.describe())\n",
        "\n",
        "#2) c помощью формул матожидания и дисперсии\n",
        "M_Y = math.sqrt(math.pi / 2) * sigma\n",
        "D_Y = sigma ** 2 * (2 - math.pi / 2)\n",
        "print(M_Y)\n",
        "print(D_Y)\n",
        "print(math.sqrt(D_Y))\n",
        "\n",
        "#3) точечные оценки параметров\n",
        "average_sample=(1/n)*sum(y)\n",
        "print(f'Выборочное среднее:\\t\\t {average_sample}')\n",
        "variance_sample=(1/(n-1))*sum((y - average_sample)**2)\n",
        "print(f'Выборочная дисперсия:\\t\\t {variance_sample}')\n",
        "standard_deviation = math.sqrt(variance_sample)\n",
        "print(f'Среднеквадратичное отклонение:\\t {standard_deviation}')"
      ],
      "metadata": {
        "colab": {
          "base_uri": "https://localhost:8080/"
        },
        "id": "PxikkXocXKP0",
        "outputId": "d2d3f9ac-cb0c-4354-cb1a-af5c9edcee07"
      },
      "execution_count": null,
      "outputs": [
        {
          "output_type": "stream",
          "name": "stdout",
          "text": [
            "                0\n",
            "count  110.000000\n",
            "mean     5.247661\n",
            "std      3.559849\n",
            "min      0.522180\n",
            "25%      2.792471\n",
            "50%      4.518857\n",
            "75%      6.745349\n",
            "max     21.244162\n",
            "1.2533141373155001\n",
            "0.42920367320510344\n",
            "0.6551363775620336\n",
            "Выборочное среднее:\t\t 5.247661107421431\n",
            "Выборочная дисперсия:\t\t 12.672522257692147\n",
            "Среднеквадратичное отклонение:\t 3.55984862848017\n"
          ]
        }
      ]
    },
    {
      "cell_type": "markdown",
      "source": [
        "2.4"
      ],
      "metadata": {
        "id": "Oi4x-Oo4XPkC"
      }
    },
    {
      "cell_type": "code",
      "source": [
        "M=750\n",
        "dist = [0]*M\n",
        "\n",
        "for i in range(M):\n",
        "  y=np.random.chisquare(k, n)\n",
        "  dist[i]=y"
      ],
      "metadata": {
        "id": "3kEEDeO9XPFI"
      },
      "execution_count": null,
      "outputs": []
    },
    {
      "cell_type": "markdown",
      "source": [
        "2.5"
      ],
      "metadata": {
        "id": "Q4HcasUOXRzg"
      }
    },
    {
      "cell_type": "code",
      "source": [
        "T=[0]*M\n",
        "a = math.sqrt(math.pi/2)*sigma\n",
        "\n",
        "for i in range(M):\n",
        "  x_i=(1 / n)*sum(dist[i])\n",
        "  s_i = (1 / (n-1))*sum((dist[i] - x_i)**2)\n",
        "  T[i]=((x_i - a)/s_i)*math.sqrt(n)\n",
        "\n",
        "print(T[0:10])"
      ],
      "metadata": {
        "colab": {
          "base_uri": "https://localhost:8080/"
        },
        "id": "0ciMQ1EcXUYm",
        "outputId": "45f589e7-a305-4c63-be71-31d5d80d0292"
      },
      "execution_count": null,
      "outputs": [
        {
          "output_type": "stream",
          "name": "stdout",
          "text": [
            "[3.7357525020574314, 4.2487870806561965, 4.0400523946999325, 4.322409622924156, 3.982818658019324, 4.005631746732233, 3.007886157829145, 4.505217431639519, 3.4910089549844505, 4.582191393971094]\n"
          ]
        }
      ]
    },
    {
      "cell_type": "markdown",
      "source": [
        "2.6"
      ],
      "metadata": {
        "id": "_b6qb6mEXXtG"
      }
    },
    {
      "cell_type": "code",
      "source": [
        "s=pd.Series(data=T)\n",
        "s.hist(density=True)"
      ],
      "metadata": {
        "colab": {
          "base_uri": "https://localhost:8080/"
        },
        "id": "4S4D8ZiQXYeq",
        "outputId": "e66f7975-a9d0-4b2f-db36-11cbc9bbe411"
      },
      "execution_count": null,
      "outputs": [
        {
          "output_type": "execute_result",
          "data": {
            "text/plain": [
              "<matplotlib.axes._subplots.AxesSubplot at 0x7ff2b0684e10>"
            ]
          },
          "metadata": {},
          "execution_count": 49
        },
        {
          "output_type": "display_data",
          "data": {
            "text/plain": [
              "<Figure size 432x288 with 1 Axes>"
            ],
            "image/png": "[encoded data removed]"
          },
          "metadata": {
            "needs_background": "light"
          }
        }
      ]
    },
    {
      "cell_type": "markdown",
      "source": [
        "2.7"
      ],
      "metadata": {
        "id": "-H7blqwuXeDI"
      }
    },
    {
      "cell_type": "code",
      "source": [
        "M = 750\n",
        "dist_1 = [0]*M\n",
        "n_ = int(n/10)\n",
        "for i in range(M):\n",
        "  y = np.random.chisquare(k, n_)\n",
        "  dist_1[i] = y\n",
        "\n",
        "T=[0]*M\n",
        "a = math.sqrt(math.pi/2)*sigma\n",
        "\n",
        "for i in range(M):\n",
        "  x_i=(1/n_)*sum(dist[i])\n",
        "  s_i = (1/(n_-1))*sum((dist[i] - x_i)**2)\n",
        "  T[i]=((x_i - a)/s_i)*math.sqrt(n_)\n",
        "\n",
        "print(T[0:10])\n",
        "\n",
        "s=pd.Series(data=T)\n",
        "s.hist(density=True)"
      ],
      "metadata": {
        "colab": {
          "base_uri": "https://localhost:8080/"
        },
        "id": "96_GXy7YXcRl",
        "outputId": "083392d9-1dff-4f56-9d8c-019e552c5dc3"
      },
      "execution_count": null,
      "outputs": [
        {
          "output_type": "stream",
          "name": "stdout",
          "text": [
            "[0.007283014037054082, 0.007188863870799843, 0.007263477942850734, 0.007335054611331431, 0.007373024601205228, 0.006524988862377846, 0.00729025443900214, 0.007410566304153848, 0.007168112390526348, 0.007993235921059966]\n"
          ]
        },
        {
          "output_type": "execute_result",
          "data": {
            "text/plain": [
              "<matplotlib.axes._subplots.AxesSubplot at 0x7ff2b09b42d0>"
            ]
          },
          "metadata": {},
          "execution_count": 50
        },
        {
          "output_type": "display_data",
          "data": {
            "text/plain": [
              "<Figure size 432x288 with 1 Axes>"
            ],
            "image/png": "[encoded data removed]"
          },
          "metadata": {
            "needs_background": "light"
          }
        }
      ]
    },
    {
      "cell_type": "code",
      "source": [
        "print(stats.shapiro(T))\n",
        "stats.kstest(T, np.random.standard_t(M, 109))"
      ],
      "metadata": {
        "colab": {
          "base_uri": "https://localhost:8080/"
        },
        "id": "y-FbOrue1Xyp",
        "outputId": "a38d1a11-2b60-4c54-899a-5f6cec762841"
      },
      "execution_count": null,
      "outputs": [
        {
          "output_type": "stream",
          "name": "stdout",
          "text": [
            "ShapiroResult(statistic=0.9941356182098389, pvalue=0.00523156626150012)\n"
          ]
        },
        {
          "output_type": "execute_result",
          "data": {
            "text/plain": [
              "KstestResult(statistic=0.5229357798165137, pvalue=1.1102230246251565e-16)"
            ]
          },
          "metadata": {},
          "execution_count": 51
        }
      ]
    },
    {
      "cell_type": "markdown",
      "source": [
        "# Задание 3"
      ],
      "metadata": {
        "id": "Cr-v2qf4tFZY"
      }
    },
    {
      "cell_type": "markdown",
      "source": [
        "3.1"
      ],
      "metadata": {
        "id": "vvVKSbZmmK1h"
      }
    },
    {
      "cell_type": "code",
      "source": [
        "Z = [0.0]*n\n",
        "for i in range(n):\n",
        "  p = np.exp(-1)\n",
        "  n1 = 0\n",
        "  q = 1\n",
        "  while (True):\n",
        "    U = np.random.uniform(0,1)\n",
        "    q = q * U\n",
        "    if q < p:\n",
        "      Z[i] = n1\n",
        "      break\n",
        "    n1 += 1\n",
        "print(Z)\n",
        "print(len(Z))"
      ],
      "metadata": {
        "colab": {
          "base_uri": "https://localhost:8080/"
        },
        "id": "8KUQbOZHmIU0",
        "outputId": "637e9ebc-d899-4681-f5ef-b5025bccc601"
      },
      "execution_count": null,
      "outputs": [
        {
          "output_type": "stream",
          "name": "stdout",
          "text": [
            "[1, 0, 1, 1, 1, 0, 1, 1, 0, 2, 1, 3, 1, 1, 1, 0, 1, 1, 1, 0, 2, 0, 0, 0, 1, 2, 0, 1, 1, 4, 0, 0, 0, 0, 2, 1, 0, 2, 4, 2, 1, 2, 0, 0, 2, 2, 0, 2, 2, 1, 0, 1, 2, 1, 1, 2, 1, 0, 1, 1, 2, 1, 1, 1, 1, 1, 2, 3, 0, 0, 0, 1, 1, 1, 0, 3, 0, 3, 3, 1, 1, 1, 0, 0, 1, 0, 0, 1, 0, 1, 0, 0, 0, 2, 0, 1, 1, 1, 1, 3, 0, 3, 1, 1, 1, 0, 2, 2, 1, 0]\n",
            "110\n"
          ]
        }
      ]
    },
    {
      "cell_type": "code",
      "source": [
        "Z = pd.Series(Z)\n",
        "Z.hist(density=True)"
      ],
      "metadata": {
        "colab": {
          "base_uri": "https://localhost:8080/",
          "height": 282
        },
        "id": "E3zvey_OnoV6",
        "outputId": "c4f6769d-6b2f-4181-f085-985148806757"
      },
      "execution_count": null,
      "outputs": [
        {
          "output_type": "execute_result",
          "data": {
            "text/plain": [
              "<matplotlib.axes._subplots.AxesSubplot at 0x7ff2b02e4910>"
            ]
          },
          "metadata": {},
          "execution_count": 66
        },
        {
          "output_type": "display_data",
          "data": {
            "text/plain": [
              "<Figure size 432x288 with 1 Axes>"
            ],
            "image/png": "[encoded data removed]"
          },
          "metadata": {
            "needs_background": "light"
          }
        }
      ]
    },
    {
      "cell_type": "code",
      "source": [
        "#создание дискретного ряда частот\n",
        "counter = Counter(Z)\n",
        "range_of_frequen = dict(sorted(counter.items()))\n",
        "value = list(range_of_frequen.values())\n",
        "key = list(range_of_frequen.keys())\n",
        "Z_i = np.asarray(key) #i- варианта распределения Z\n",
        "freq = np.asarray(value) # частоты \n",
        "w_i = freq / n"
      ],
      "metadata": {
        "id": "lsETaspktwK6"
      },
      "execution_count": null,
      "outputs": []
    },
    {
      "cell_type": "code",
      "source": [
        "#таблица дискретного ряда относительных частот \n",
        "df = pd.DataFrame()\n",
        "df['Z_i'] = Z_i\n",
        "df['mi'] = freq\n",
        "df['wi'] = w_i\n",
        "\n",
        "H_zi = [0.0] * len(freq)\n",
        "for i in range(len(freq)):\n",
        "  H_zi[i] = H_zi[i-1] + freq[i]\n",
        "\n",
        "H_zi = np.array(H_zi)\n",
        "df['H(zi)'] = H_zi\n",
        "df['F*(zi)'] = H_zi/n1\n",
        "\n",
        "pi = [0.0] * len(Z_i)\n",
        "for i in range(len(Z_i)):\n",
        "  pi[i] = np.exp(-1) / math.factorial(Z_i[i])\n",
        "df['pi'] = pi\n",
        "\n",
        "print(df)\n",
        "print()\n",
        "print(\"а) полигон распределения и полигон относительных частот\")\n",
        "plt.plot(Z_i, pi, 'g-*' ) \n",
        "plt.plot(Z_i, w_i, 'r-*')"
      ],
      "metadata": {
        "colab": {
          "base_uri": "https://localhost:8080/",
          "height": 456
        },
        "id": "bviMwWRRuCCe",
        "outputId": "ab73df35-42ff-4f47-dbfd-719f16d94b27"
      },
      "execution_count": null,
      "outputs": [
        {
          "output_type": "stream",
          "name": "stdout",
          "text": [
            "   Z_i  mi        wi  H(zi)  F*(zi)        pi\n",
            "0    0  36  0.327273   36.0     inf  0.367879\n",
            "1    1  47  0.427273   83.0     inf  0.367879\n",
            "2    2  18  0.163636  101.0     inf  0.183940\n",
            "3    3   7  0.063636  108.0     inf  0.061313\n",
            "4    4   2  0.018182  110.0     inf  0.015328\n",
            "\n",
            "а) полигон распределения и полигон относительных частот\n"
          ]
        },
        {
          "output_type": "stream",
          "name": "stderr",
          "text": [
            "/usr/local/lib/python3.7/dist-packages/ipykernel_launcher.py:13: RuntimeWarning: divide by zero encountered in true_divide\n",
            "  del sys.path[0]\n"
          ]
        },
        {
          "output_type": "execute_result",
          "data": {
            "text/plain": [
              "[<matplotlib.lines.Line2D at 0x7ff2b0364c10>]"
            ]
          },
          "metadata": {},
          "execution_count": 68
        },
        {
          "output_type": "display_data",
          "data": {
            "text/plain": [
              "<Figure size 432x288 with 1 Axes>"
            ],
            "image/png": "[encoded data removed]"
          },
          "metadata": {
            "needs_background": "light"
          }
        }
      ]
    },
    {
      "cell_type": "code",
      "source": [
        "plt.plot(Z_i, df['F*(zi)'], 'r-*')\n",
        "plt.plot()"
      ],
      "metadata": {
        "colab": {
          "base_uri": "https://localhost:8080/",
          "height": 282
        },
        "id": "8KZz5YgdxEnp",
        "outputId": "10f0f496-31f8-44f8-e0b6-583cd98c10ff"
      },
      "execution_count": null,
      "outputs": [
        {
          "output_type": "execute_result",
          "data": {
            "text/plain": [
              "[]"
            ]
          },
          "metadata": {},
          "execution_count": 69
        },
        {
          "output_type": "display_data",
          "data": {
            "text/plain": [
              "<Figure size 432x288 with 1 Axes>"
            ],
            "image/png": "[encoded data removed]"
          },
          "metadata": {
            "needs_background": "light"
          }
        }
      ]
    },
    {
      "cell_type": "markdown",
      "source": [
        "3.3"
      ],
      "metadata": {
        "id": "3ju1UgTcxvV6"
      }
    },
    {
      "cell_type": "code",
      "source": [
        "q = 0.8\n",
        "def three_4(s, sigma_true, sigma_prak):\n",
        "    res_true = 0.\n",
        "    res_prak = 0.\n",
        "    for i in s:\n",
        "        if abs(i - sigma_true) < q:\n",
        "            res_true += 1\n",
        "        if abs(i - sigma_prak) < q:\n",
        "            res_prak += 1\n",
        "    print(\"Result with sigma-true value: \", res_true/n)\n",
        "    print(\"Result with sigma-praktika: \", res_prak/n)\n",
        "    return\n",
        "\n",
        "series = pd.Series(Z)\n",
        "pdRes = pd.DataFrame.describe(series)\n",
        "print(\"a = \", pdRes['mean'])\n",
        "print(\"sigma = \", pdRes['std'])\n",
        "sigma_true = 1\n",
        "three_4(Z, sigma_true, pdRes['std'])"
      ],
      "metadata": {
        "colab": {
          "base_uri": "https://localhost:8080/"
        },
        "id": "b274-W-PxuyE",
        "outputId": "c0fee0ea-ba07-4a99-8e5c-b73385f80012"
      },
      "execution_count": null,
      "outputs": [
        {
          "output_type": "stream",
          "name": "stdout",
          "text": [
            "a =  1.018181818181818\n",
            "sigma =  0.957652119152756\n",
            "Result with sigma-true value:  0.42727272727272725\n",
            "Result with sigma-praktika:  0.42727272727272725\n"
          ]
        }
      ]
    },
    {
      "cell_type": "markdown",
      "source": [
        "3.4"
      ],
      "metadata": {
        "id": "y1cSXAZPzsds"
      }
    },
    {
      "cell_type": "code",
      "source": [
        "Z = np.random.poisson(1, n)\n",
        "print(Z)\n",
        "print(len(Z))"
      ],
      "metadata": {
        "colab": {
          "base_uri": "https://localhost:8080/"
        },
        "id": "I2wsqwArrfzq",
        "outputId": "2ed725e1-7357-4b57-8eb9-0337b19c3e41"
      },
      "execution_count": null,
      "outputs": [
        {
          "output_type": "stream",
          "name": "stdout",
          "text": [
            "[4 3 0 1 0 1 1 1 0 1 1 4 1 0 2 3 1 0 0 0 0 1 0 2 1 1 1 0 1 2 0 0 0 1 0 0 2\n",
            " 0 0 1 1 1 3 0 1 1 0 1 1 1 0 1 0 0 0 1 2 0 1 1 1 4 2 0 0 1 1 1 0 0 1 1 0 0\n",
            " 2 0 0 0 0 3 4 0 1 0 0 2 2 2 4 2 0 1 2 1 1 1 1 3 3 2 1 0 2 1 0 5 0 0 0 2]\n",
            "110\n"
          ]
        }
      ]
    },
    {
      "cell_type": "code",
      "source": [
        "_list = pd.Series(Z)\n",
        "_list.hist(density=True)"
      ],
      "metadata": {
        "colab": {
          "base_uri": "https://localhost:8080/",
          "height": 282
        },
        "id": "vCNAgcUmru47",
        "outputId": "20e9c489-450f-4f81-9bc1-6a49d4552655"
      },
      "execution_count": null,
      "outputs": [
        {
          "output_type": "execute_result",
          "data": {
            "text/plain": [
              "<matplotlib.axes._subplots.AxesSubplot at 0x7ff2b0b0c210>"
            ]
          },
          "metadata": {},
          "execution_count": 72
        },
        {
          "output_type": "display_data",
          "data": {
            "text/plain": [
              "<Figure size 432x288 with 1 Axes>"
            ],
            "image/png": "[encoded data removed]"
          },
          "metadata": {
            "needs_background": "light"
          }
        }
      ]
    },
    {
      "cell_type": "code",
      "source": [
        "#создание дискретного ряда частот\n",
        "counter = Counter(Z)\n",
        "range_of_frequen = dict(sorted(counter.items()))\n",
        "value = list(range_of_frequen.values())\n",
        "key = list(range_of_frequen.keys())\n",
        "Z_i = np.asarray(key) #i- варианта распределения Z\n",
        "freq = np.asarray(value) # частоты \n",
        "w_i = freq / n"
      ],
      "metadata": {
        "id": "WaZcerYWZy_x"
      },
      "execution_count": null,
      "outputs": []
    },
    {
      "cell_type": "code",
      "source": [
        "#таблица дискретного ряда относительных частот \n",
        "df = pd.DataFrame()\n",
        "df['Z_i'] = Z_i\n",
        "df['mi'] = freq\n",
        "df['wi'] = w_i\n",
        "\n",
        "H_zi = [0.0] * len(freq)\n",
        "for i in range(len(freq)):\n",
        "  H_zi[i] = H_zi[i-1] + freq[i]\n",
        "\n",
        "H_zi = np.array(H_zi)\n",
        "df['H(zi)'] = H_zi\n",
        "df['F*(zi)'] = H_zi/n1\n",
        "\n",
        "pi = [0.0] * len(Z_i)\n",
        "for i in range(len(Z_i)):\n",
        "  pi[i] = np.exp(-1) / math.factorial(Z_i[i])\n",
        "df['pi'] = pi\n",
        "\n",
        "print(df)\n",
        "print()\n",
        "print(\"а) полигон распределения и полигон относительных частот\")\n",
        "plt.plot(Z_i, pi, 'g-*' ) \n",
        "plt.plot(Z_i, w_i, 'r-*')"
      ],
      "metadata": {
        "colab": {
          "base_uri": "https://localhost:8080/",
          "height": 473
        },
        "id": "Rvmf6aWgZ2kl",
        "outputId": "27b3bcdb-7249-4bbd-9353-edbfbd08635f"
      },
      "execution_count": null,
      "outputs": [
        {
          "output_type": "stream",
          "name": "stdout",
          "text": [
            "   Z_i  mi        wi  H(zi)  F*(zi)        pi\n",
            "0    0  43  0.390909   43.0     inf  0.367879\n",
            "1    1  40  0.363636   83.0     inf  0.367879\n",
            "2    2  15  0.136364   98.0     inf  0.183940\n",
            "3    3   6  0.054545  104.0     inf  0.061313\n",
            "4    4   5  0.045455  109.0     inf  0.015328\n",
            "5    5   1  0.009091  110.0     inf  0.003066\n",
            "\n",
            "а) полигон распределения и полигон относительных частот\n"
          ]
        },
        {
          "output_type": "stream",
          "name": "stderr",
          "text": [
            "/usr/local/lib/python3.7/dist-packages/ipykernel_launcher.py:13: RuntimeWarning: divide by zero encountered in true_divide\n",
            "  del sys.path[0]\n"
          ]
        },
        {
          "output_type": "execute_result",
          "data": {
            "text/plain": [
              "[<matplotlib.lines.Line2D at 0x7ff2b0754b10>]"
            ]
          },
          "metadata": {},
          "execution_count": 74
        },
        {
          "output_type": "display_data",
          "data": {
            "text/plain": [
              "<Figure size 432x288 with 1 Axes>"
            ],
            "image/png": "[encoded data removed]"
          },
          "metadata": {
            "needs_background": "light"
          }
        }
      ]
    },
    {
      "cell_type": "code",
      "source": [
        "plt.plot(Z_i, df['F*(zi)'], 'r-*')\n",
        "plt.plot()"
      ],
      "metadata": {
        "colab": {
          "base_uri": "https://localhost:8080/",
          "height": 282
        },
        "id": "VkdDyj_kZ8Ps",
        "outputId": "786d87cb-750d-44ca-9a59-772200583e9c"
      },
      "execution_count": null,
      "outputs": [
        {
          "output_type": "execute_result",
          "data": {
            "text/plain": [
              "[]"
            ]
          },
          "metadata": {},
          "execution_count": 75
        },
        {
          "output_type": "display_data",
          "data": {
            "text/plain": [
              "<Figure size 432x288 with 1 Axes>"
            ],
            "image/png": "[encoded data removed]"
          },
          "metadata": {
            "needs_background": "light"
          }
        }
      ]
    },
    {
      "cell_type": "code",
      "source": [
        "q = 0.8\n",
        "def three_4(s, sigma_true, sigma_prak):\n",
        "    res_true = 0.\n",
        "    res_prak = 0.\n",
        "    for i in s:\n",
        "        if abs(i - sigma_true) < q:\n",
        "            res_true += 1\n",
        "        if abs(i - sigma_prak) < q:\n",
        "            res_prak += 1\n",
        "    print(\"Result with sigma-true value: \", res_true/n)\n",
        "    print(\"Result with sigma-praktika: \", res_prak/n)\n",
        "    return\n",
        "\n",
        "series = pd.Series(Z)\n",
        "pdRes = pd.DataFrame.describe(series)\n",
        "print(\"a = \", pdRes['mean'])\n",
        "print(\"sigma = \", pdRes['std'])\n",
        "sigma_true = 1\n",
        "three_4(Z, sigma_true, pdRes['std'])"
      ],
      "metadata": {
        "colab": {
          "base_uri": "https://localhost:8080/"
        },
        "id": "yNk_6w2mZ-cY",
        "outputId": "8a35b69c-9224-4e3b-9ad7-4a8edef0ee37"
      },
      "execution_count": null,
      "outputs": [
        {
          "output_type": "stream",
          "name": "stdout",
          "text": [
            "a =  1.0272727272727273\n",
            "sigma =  1.1450659282256719\n",
            "Result with sigma-true value:  0.36363636363636365\n",
            "Result with sigma-praktika:  0.36363636363636365\n"
          ]
        }
      ]
    }
  ]
}